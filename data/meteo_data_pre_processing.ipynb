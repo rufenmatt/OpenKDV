{
  "nbformat": 4,
  "nbformat_minor": 0,
  "metadata": {
    "colab": {
      "name": "meteo_data_pre-processing.ipynb",
      "provenance": [],
      "collapsed_sections": []
    },
    "kernelspec": {
      "name": "python3",
      "display_name": "Python 3"
    }
  },
  "cells": [
    {
      "cell_type": "code",
      "metadata": {
        "id": "ceRd29AimS8n",
        "colab_type": "code",
        "colab": {}
      },
      "source": [
        "import pandas as pd\n",
        "import numpy as np"
      ],
      "execution_count": 0,
      "outputs": []
    },
    {
      "cell_type": "markdown",
      "metadata": {
        "id": "3LPhlm-BXbec",
        "colab_type": "text"
      },
      "source": [
        "Reading the .csv and transforming some features\n",
        "\n",
        "\n",
        "\n"
      ]
    },
    {
      "cell_type": "code",
      "metadata": {
        "id": "EFxoSdUamZ6z",
        "colab_type": "code",
        "colab": {}
      },
      "source": [
        "df = pd.read_csv(\"VQAA60.csv\", encoding='latin1', sep=\"|\", header=2)"
      ],
      "execution_count": 0,
      "outputs": []
    },
    {
      "cell_type": "code",
      "metadata": {
        "id": "M8Q_ty-jmwQT",
        "colab_type": "code",
        "outputId": "9428b65e-b7ef-420d-fcb7-5b9b1727c6b8",
        "colab": {
          "base_uri": "https://localhost:8080/",
          "height": 419
        }
      },
      "source": [
        "df = df.rename(columns={\"Unnamed: 0\": \"station\", \"Unnamed: 1\": \"time\", \"[°C]\": \"temperature\"})\n",
        "df.drop('[mm]', axis=1)"
      ],
      "execution_count": 0,
      "outputs": [
        {
          "output_type": "execute_result",
          "data": {
            "text/html": [
              "<div>\n",
              "<style scoped>\n",
              "    .dataframe tbody tr th:only-of-type {\n",
              "        vertical-align: middle;\n",
              "    }\n",
              "\n",
              "    .dataframe tbody tr th {\n",
              "        vertical-align: top;\n",
              "    }\n",
              "\n",
              "    .dataframe thead th {\n",
              "        text-align: right;\n",
              "    }\n",
              "</style>\n",
              "<table border=\"1\" class=\"dataframe\">\n",
              "  <thead>\n",
              "    <tr style=\"text-align: right;\">\n",
              "      <th></th>\n",
              "      <th>station</th>\n",
              "      <th>time</th>\n",
              "      <th>temperature</th>\n",
              "    </tr>\n",
              "  </thead>\n",
              "  <tbody>\n",
              "    <tr>\n",
              "      <th>0</th>\n",
              "      <td>BAS</td>\n",
              "      <td>187101</td>\n",
              "      <td>-4.4</td>\n",
              "    </tr>\n",
              "    <tr>\n",
              "      <th>1</th>\n",
              "      <td>BAS</td>\n",
              "      <td>187102</td>\n",
              "      <td>2.4</td>\n",
              "    </tr>\n",
              "    <tr>\n",
              "      <th>2</th>\n",
              "      <td>BAS</td>\n",
              "      <td>187103</td>\n",
              "      <td>5.5</td>\n",
              "    </tr>\n",
              "    <tr>\n",
              "      <th>3</th>\n",
              "      <td>BAS</td>\n",
              "      <td>187104</td>\n",
              "      <td>9.9</td>\n",
              "    </tr>\n",
              "    <tr>\n",
              "      <th>4</th>\n",
              "      <td>BAS</td>\n",
              "      <td>187105</td>\n",
              "      <td>11.9</td>\n",
              "    </tr>\n",
              "    <tr>\n",
              "      <th>...</th>\n",
              "      <td>...</td>\n",
              "      <td>...</td>\n",
              "      <td>...</td>\n",
              "    </tr>\n",
              "    <tr>\n",
              "      <th>25083</th>\n",
              "      <td>SMA</td>\n",
              "      <td>201912</td>\n",
              "      <td>3.8</td>\n",
              "    </tr>\n",
              "    <tr>\n",
              "      <th>25084</th>\n",
              "      <td>SMA</td>\n",
              "      <td>202001</td>\n",
              "      <td>2.6</td>\n",
              "    </tr>\n",
              "    <tr>\n",
              "      <th>25085</th>\n",
              "      <td>SMA</td>\n",
              "      <td>202002</td>\n",
              "      <td>6.2</td>\n",
              "    </tr>\n",
              "    <tr>\n",
              "      <th>25086</th>\n",
              "      <td>SMA</td>\n",
              "      <td>202003</td>\n",
              "      <td>5.9</td>\n",
              "    </tr>\n",
              "    <tr>\n",
              "      <th>25087</th>\n",
              "      <td>SMA</td>\n",
              "      <td>202004</td>\n",
              "      <td>-</td>\n",
              "    </tr>\n",
              "  </tbody>\n",
              "</table>\n",
              "<p>25088 rows × 3 columns</p>\n",
              "</div>"
            ],
            "text/plain": [
              "      station    time temperature\n",
              "0         BAS  187101        -4.4\n",
              "1         BAS  187102         2.4\n",
              "2         BAS  187103         5.5\n",
              "3         BAS  187104         9.9\n",
              "4         BAS  187105        11.9\n",
              "...       ...     ...         ...\n",
              "25083     SMA  201912         3.8\n",
              "25084     SMA  202001         2.6\n",
              "25085     SMA  202002         6.2\n",
              "25086     SMA  202003         5.9\n",
              "25087     SMA  202004           -\n",
              "\n",
              "[25088 rows x 3 columns]"
            ]
          },
          "metadata": {
            "tags": []
          },
          "execution_count": 3
        }
      ]
    },
    {
      "cell_type": "code",
      "metadata": {
        "id": "QmT8-mtlrmZ3",
        "colab_type": "code",
        "colab": {}
      },
      "source": [
        "df['time'] = df['time'].astype(str)"
      ],
      "execution_count": 0,
      "outputs": []
    },
    {
      "cell_type": "code",
      "metadata": {
        "id": "2sO9zerC1OPs",
        "colab_type": "code",
        "colab": {}
      },
      "source": [
        "df['year'] = df['time'].str[:4]"
      ],
      "execution_count": 0,
      "outputs": []
    },
    {
      "cell_type": "code",
      "metadata": {
        "id": "dJUHji0d3L6m",
        "colab_type": "code",
        "colab": {}
      },
      "source": [
        "df['month'] = df['time'].str[-2:]"
      ],
      "execution_count": 0,
      "outputs": []
    },
    {
      "cell_type": "code",
      "metadata": {
        "id": "3HO-eCnx_J2y",
        "colab_type": "code",
        "colab": {}
      },
      "source": [
        "df['month'] = df['month'].str.lstrip(\"0\")"
      ],
      "execution_count": 0,
      "outputs": []
    },
    {
      "cell_type": "code",
      "metadata": {
        "id": "SE438S4AJi-o",
        "colab_type": "code",
        "colab": {}
      },
      "source": [
        "df['month'] = df['month'].astype(int)"
      ],
      "execution_count": 0,
      "outputs": []
    },
    {
      "cell_type": "code",
      "metadata": {
        "id": "_a3ZYTXLDv6J",
        "colab_type": "code",
        "colab": {}
      },
      "source": [
        "df = df.drop(['time', '[mm]'], axis=1)"
      ],
      "execution_count": 0,
      "outputs": []
    },
    {
      "cell_type": "code",
      "metadata": {
        "id": "ldTZuewxe7G3",
        "colab_type": "code",
        "colab": {}
      },
      "source": [
        "df = df.dropna()"
      ],
      "execution_count": 0,
      "outputs": []
    },
    {
      "cell_type": "code",
      "metadata": {
        "id": "LZoXp56kUq9s",
        "colab_type": "code",
        "colab": {}
      },
      "source": [
        "df[\"temperature\"] = pd.to_numeric(df[\"temperature\"], errors='coerce')"
      ],
      "execution_count": 0,
      "outputs": []
    },
    {
      "cell_type": "markdown",
      "metadata": {
        "id": "-ys7rbWSXvtq",
        "colab_type": "text"
      },
      "source": [
        "Filtering the stations within the dataframe"
      ]
    },
    {
      "cell_type": "code",
      "metadata": {
        "id": "i__TGImGsCiW",
        "colab_type": "code",
        "colab": {}
      },
      "source": [
        "BASData = df[0:1788]"
      ],
      "execution_count": 0,
      "outputs": []
    },
    {
      "cell_type": "code",
      "metadata": {
        "id": "xg4ScLJSV9Ko",
        "colab_type": "code",
        "colab": {}
      },
      "source": [
        "BASDataLatest = BASData[1320:1680]"
      ],
      "execution_count": 0,
      "outputs": []
    },
    {
      "cell_type": "code",
      "metadata": {
        "id": "WyErdgnzWSKS",
        "colab_type": "code",
        "colab": {}
      },
      "source": [
        "normVLatest = BASDataLatest.groupby(by=\"month\").transform(\"mean\")[\"temperature\"]"
      ],
      "execution_count": 0,
      "outputs": []
    },
    {
      "cell_type": "code",
      "metadata": {
        "id": "wD3fwKLhXYjT",
        "colab_type": "code",
        "colab": {}
      },
      "source": [
        "notbalancedVLatest = normVLatest.append([normVLatest]*4, ignore_index=True)"
      ],
      "execution_count": 0,
      "outputs": []
    },
    {
      "cell_type": "code",
      "metadata": {
        "id": "BsODsHfQXoFW",
        "colab_type": "code",
        "colab": {}
      },
      "source": [
        "balancedVLatest = notbalancedVLatest[0:1788]"
      ],
      "execution_count": 0,
      "outputs": []
    },
    {
      "cell_type": "code",
      "metadata": {
        "id": "8KjLFmpsYA3O",
        "colab_type": "code",
        "outputId": "ceb63250-4920-45c4-fc13-5c76640d2e62",
        "colab": {
          "base_uri": "https://localhost:8080/",
          "height": 139
        }
      },
      "source": [
        "BASData[\"value\"] = BASData[\"temperature\"] - balancedVLatest"
      ],
      "execution_count": 0,
      "outputs": [
        {
          "output_type": "stream",
          "text": [
            "/usr/local/lib/python3.6/dist-packages/ipykernel_launcher.py:1: SettingWithCopyWarning: \n",
            "A value is trying to be set on a copy of a slice from a DataFrame.\n",
            "Try using .loc[row_indexer,col_indexer] = value instead\n",
            "\n",
            "See the caveats in the documentation: https://pandas.pydata.org/pandas-docs/stable/user_guide/indexing.html#returning-a-view-versus-a-copy\n",
            "  \"\"\"Entry point for launching an IPython kernel.\n"
          ],
          "name": "stderr"
        }
      ]
    },
    {
      "cell_type": "code",
      "metadata": {
        "id": "d8RA9Tii_gBC",
        "colab_type": "code",
        "colab": {}
      },
      "source": [
        "BASData = BASData.drop(['temperature'], axis=1)"
      ],
      "execution_count": 0,
      "outputs": []
    },
    {
      "cell_type": "code",
      "metadata": {
        "id": "QhX10EmWAUOT",
        "colab_type": "code",
        "colab": {}
      },
      "source": [
        "BASData = BASData.drop(['station'], axis=1)"
      ],
      "execution_count": 0,
      "outputs": []
    },
    {
      "cell_type": "code",
      "metadata": {
        "id": "jJXFETycwoQ2",
        "colab_type": "code",
        "colab": {}
      },
      "source": [
        "BASData.to_csv('BAS_data_1981-2010.csv', sep=',', encoding='utf-8', index=False)"
      ],
      "execution_count": 0,
      "outputs": []
    },
    {
      "cell_type": "code",
      "metadata": {
        "id": "MbD5WGXYsn07",
        "colab_type": "code",
        "colab": {}
      },
      "source": [
        "BASDataVorInd = BASData[0:360]"
      ],
      "execution_count": 0,
      "outputs": []
    },
    {
      "cell_type": "code",
      "metadata": {
        "id": "3Ew7EMvhFvH0",
        "colab_type": "code",
        "colab": {}
      },
      "source": [
        "normVIndus = BASDataVorInd.groupby(by=\"month\").transform(\"mean\")[\"temperature\"]"
      ],
      "execution_count": 0,
      "outputs": []
    },
    {
      "cell_type": "code",
      "metadata": {
        "id": "NXhEEajGF7An",
        "colab_type": "code",
        "colab": {}
      },
      "source": [
        "notbalancedVIndus = normVIndus.append([normVIndus]*4, ignore_index=True)"
      ],
      "execution_count": 0,
      "outputs": []
    },
    {
      "cell_type": "code",
      "metadata": {
        "id": "fyCJFjF3GABo",
        "colab_type": "code",
        "colab": {}
      },
      "source": [
        "balancedVIndus = notbalancedVIndus[0:1788]"
      ],
      "execution_count": 0,
      "outputs": []
    },
    {
      "cell_type": "code",
      "metadata": {
        "id": "EBDfrZguGlWc",
        "colab_type": "code",
        "outputId": "fa1cf04d-f169-424b-b2f1-923fd1811abf",
        "colab": {
          "base_uri": "https://localhost:8080/",
          "height": 139
        }
      },
      "source": [
        "BASData[\"value\"] = BASData[\"temperature\"] - balancedVIndus"
      ],
      "execution_count": 0,
      "outputs": [
        {
          "output_type": "stream",
          "text": [
            "/usr/local/lib/python3.6/dist-packages/ipykernel_launcher.py:1: SettingWithCopyWarning: \n",
            "A value is trying to be set on a copy of a slice from a DataFrame.\n",
            "Try using .loc[row_indexer,col_indexer] = value instead\n",
            "\n",
            "See the caveats in the documentation: https://pandas.pydata.org/pandas-docs/stable/user_guide/indexing.html#returning-a-view-versus-a-copy\n",
            "  \"\"\"Entry point for launching an IPython kernel.\n"
          ],
          "name": "stderr"
        }
      ]
    },
    {
      "cell_type": "code",
      "metadata": {
        "id": "uMz96vYlGx8m",
        "colab_type": "code",
        "colab": {}
      },
      "source": [
        "BASData = BASData.drop(['temperature'], axis=1)"
      ],
      "execution_count": 0,
      "outputs": []
    },
    {
      "cell_type": "code",
      "metadata": {
        "id": "XgVPiw1eGzLt",
        "colab_type": "code",
        "colab": {}
      },
      "source": [
        "BASData = BASData.drop(['station'], axis=1)"
      ],
      "execution_count": 0,
      "outputs": []
    },
    {
      "cell_type": "code",
      "metadata": {
        "id": "zeXKDET5G1nF",
        "colab_type": "code",
        "colab": {}
      },
      "source": [
        "BASData.to_csv('BAS_data_1871-1900.csv', sep=',', encoding='utf-8', index=False)"
      ],
      "execution_count": 0,
      "outputs": []
    },
    {
      "cell_type": "code",
      "metadata": {
        "id": "-jR9dm-ZIWKC",
        "colab_type": "code",
        "colab": {}
      },
      "source": [
        "BASDataMiddle = BASData[1080:1440]"
      ],
      "execution_count": 0,
      "outputs": []
    },
    {
      "cell_type": "code",
      "metadata": {
        "id": "p1i7HDsvI3ez",
        "colab_type": "code",
        "colab": {}
      },
      "source": [
        "normVMiddle = BASDataMiddle.groupby(by=\"month\").transform(\"mean\")[\"temperature\"]"
      ],
      "execution_count": 0,
      "outputs": []
    },
    {
      "cell_type": "code",
      "metadata": {
        "id": "OMBF2q8cJAqk",
        "colab_type": "code",
        "colab": {}
      },
      "source": [
        "notbalancedVMiddle = normVMiddle.append([normVMiddle]*4, ignore_index=True)"
      ],
      "execution_count": 0,
      "outputs": []
    },
    {
      "cell_type": "code",
      "metadata": {
        "id": "joGIak4mJHfF",
        "colab_type": "code",
        "colab": {}
      },
      "source": [
        "balancedVMiddle = notbalancedVMiddle[0:1788]"
      ],
      "execution_count": 0,
      "outputs": []
    },
    {
      "cell_type": "code",
      "metadata": {
        "id": "-JSocUoZJMJ4",
        "colab_type": "code",
        "outputId": "5806ca87-d7b4-424c-f42c-f68009345237",
        "colab": {
          "base_uri": "https://localhost:8080/",
          "height": 139
        }
      },
      "source": [
        "BASData[\"value\"] = BASData[\"temperature\"] - balancedVMiddle"
      ],
      "execution_count": 0,
      "outputs": [
        {
          "output_type": "stream",
          "text": [
            "/usr/local/lib/python3.6/dist-packages/ipykernel_launcher.py:1: SettingWithCopyWarning: \n",
            "A value is trying to be set on a copy of a slice from a DataFrame.\n",
            "Try using .loc[row_indexer,col_indexer] = value instead\n",
            "\n",
            "See the caveats in the documentation: https://pandas.pydata.org/pandas-docs/stable/user_guide/indexing.html#returning-a-view-versus-a-copy\n",
            "  \"\"\"Entry point for launching an IPython kernel.\n"
          ],
          "name": "stderr"
        }
      ]
    },
    {
      "cell_type": "code",
      "metadata": {
        "id": "Q9BkwrJqJPsR",
        "colab_type": "code",
        "colab": {}
      },
      "source": [
        "BASData = BASData.drop(['temperature'], axis=1)"
      ],
      "execution_count": 0,
      "outputs": []
    },
    {
      "cell_type": "code",
      "metadata": {
        "id": "QqZXW0UkJTbe",
        "colab_type": "code",
        "colab": {}
      },
      "source": [
        "BASData = BASData.drop(['station'], axis=1)"
      ],
      "execution_count": 0,
      "outputs": []
    },
    {
      "cell_type": "code",
      "metadata": {
        "id": "-Sra-AWDJVMH",
        "colab_type": "code",
        "colab": {}
      },
      "source": [
        "BASData.to_csv('BAS_data_1961-1990.csv', sep=',', encoding='utf-8', index=False)"
      ],
      "execution_count": 0,
      "outputs": []
    },
    {
      "cell_type": "code",
      "metadata": {
        "id": "HiHu_hm4FEXl",
        "colab_type": "code",
        "colab": {}
      },
      "source": [
        "BERData = df[1792:3580]\n",
        "BERData = BERData.reset_index(drop=True)"
      ],
      "execution_count": 0,
      "outputs": []
    },
    {
      "cell_type": "code",
      "metadata": {
        "id": "xa3L_W1eMlIw",
        "colab_type": "code",
        "colab": {}
      },
      "source": [
        "BERDataVorInd = BERData[0:360]"
      ],
      "execution_count": 0,
      "outputs": []
    },
    {
      "cell_type": "code",
      "metadata": {
        "id": "2Cip6jK1NZJD",
        "colab_type": "code",
        "colab": {}
      },
      "source": [
        "BERnormVIndus = BERDataVorInd.groupby(by=\"month\").transform(\"mean\")[\"temperature\"]"
      ],
      "execution_count": 0,
      "outputs": []
    },
    {
      "cell_type": "code",
      "metadata": {
        "id": "7sb2_I4ANntu",
        "colab_type": "code",
        "colab": {}
      },
      "source": [
        "BERnotbalancedVIndus = BERnormVIndus.append([BERnormVIndus]*4, ignore_index=True)"
      ],
      "execution_count": 0,
      "outputs": []
    },
    {
      "cell_type": "code",
      "metadata": {
        "id": "-Mb1ZHGee3Ep",
        "colab_type": "code",
        "colab": {}
      },
      "source": [
        "BERbalancedVIndus = BERnotbalancedVIndus[0:1788]"
      ],
      "execution_count": 0,
      "outputs": []
    },
    {
      "cell_type": "code",
      "metadata": {
        "id": "67g6k0EMN3Ub",
        "colab_type": "code",
        "colab": {}
      },
      "source": [
        "BERData[\"value\"] = BERData[\"temperature\"] - BERbalancedVIndus"
      ],
      "execution_count": 0,
      "outputs": []
    },
    {
      "cell_type": "code",
      "metadata": {
        "id": "HJ8e-hbcOBf7",
        "colab_type": "code",
        "colab": {}
      },
      "source": [
        "BERData = BERData.drop(['temperature'], axis=1)"
      ],
      "execution_count": 0,
      "outputs": []
    },
    {
      "cell_type": "code",
      "metadata": {
        "id": "JKUz_dkqOFiq",
        "colab_type": "code",
        "colab": {}
      },
      "source": [
        "BERData = BERData.drop(['station'], axis=1)"
      ],
      "execution_count": 0,
      "outputs": []
    },
    {
      "cell_type": "code",
      "metadata": {
        "id": "9VB7kwKMOHeY",
        "colab_type": "code",
        "colab": {}
      },
      "source": [
        "BERData.to_csv('BER_data_1871-1900.csv', sep=',', encoding='utf-8', index=False)"
      ],
      "execution_count": 0,
      "outputs": []
    },
    {
      "cell_type": "code",
      "metadata": {
        "id": "nszWGfzuOZwv",
        "colab_type": "code",
        "colab": {}
      },
      "source": [
        "BERDataMiddle = BERData[1080:1440]"
      ],
      "execution_count": 0,
      "outputs": []
    },
    {
      "cell_type": "code",
      "metadata": {
        "id": "WHnyUaM8O9MG",
        "colab_type": "code",
        "colab": {}
      },
      "source": [
        "BERnormVMiddle = BERDataMiddle.groupby(by=\"month\").transform(\"mean\")[\"temperature\"]"
      ],
      "execution_count": 0,
      "outputs": []
    },
    {
      "cell_type": "code",
      "metadata": {
        "id": "BS_mE6e0O-BI",
        "colab_type": "code",
        "colab": {}
      },
      "source": [
        "BERnotbalancedVMiddle = BERnormVMiddle.append([BERnormVMiddle]*4, ignore_index=True)"
      ],
      "execution_count": 0,
      "outputs": []
    },
    {
      "cell_type": "code",
      "metadata": {
        "id": "KmFlO1RHPOLM",
        "colab_type": "code",
        "colab": {}
      },
      "source": [
        "BERbalancedVMiddle = BERnotbalancedVMiddle[0:1788]"
      ],
      "execution_count": 0,
      "outputs": []
    },
    {
      "cell_type": "code",
      "metadata": {
        "id": "jgRrhS2lPUL6",
        "colab_type": "code",
        "colab": {}
      },
      "source": [
        "BERData[\"value\"] = BERData[\"temperature\"] - BERbalancedVMiddle"
      ],
      "execution_count": 0,
      "outputs": []
    },
    {
      "cell_type": "code",
      "metadata": {
        "id": "jxW-TcTgPXpB",
        "colab_type": "code",
        "colab": {}
      },
      "source": [
        "BERData = BERData.drop(['temperature'], axis=1)"
      ],
      "execution_count": 0,
      "outputs": []
    },
    {
      "cell_type": "code",
      "metadata": {
        "id": "hjk35c71PZwW",
        "colab_type": "code",
        "colab": {}
      },
      "source": [
        "BERData = BERData.drop(['station'], axis=1)"
      ],
      "execution_count": 0,
      "outputs": []
    },
    {
      "cell_type": "code",
      "metadata": {
        "id": "SUf7Gz9PPamP",
        "colab_type": "code",
        "colab": {}
      },
      "source": [
        "BERData.to_csv('BER_data_1961-1990.csv', sep=',', encoding='utf-8', index=False)"
      ],
      "execution_count": 0,
      "outputs": []
    },
    {
      "cell_type": "code",
      "metadata": {
        "id": "AVsZTdDpPpyR",
        "colab_type": "code",
        "colab": {}
      },
      "source": [
        "BERDataLatest = BERData[1320:1680]"
      ],
      "execution_count": 0,
      "outputs": []
    },
    {
      "cell_type": "code",
      "metadata": {
        "id": "QjxpWPG_QRQS",
        "colab_type": "code",
        "colab": {}
      },
      "source": [
        "BERnormVLatest = BERDataLatest.groupby(by=\"month\").transform(\"mean\")[\"temperature\"]"
      ],
      "execution_count": 0,
      "outputs": []
    },
    {
      "cell_type": "code",
      "metadata": {
        "id": "MtyK3TI1QeZa",
        "colab_type": "code",
        "colab": {}
      },
      "source": [
        "BERnotbalancedVLatest = BERnormVLatest.append([BERnormVLatest]*4, ignore_index=True)"
      ],
      "execution_count": 0,
      "outputs": []
    },
    {
      "cell_type": "code",
      "metadata": {
        "id": "t7nO0MSQQnK8",
        "colab_type": "code",
        "colab": {}
      },
      "source": [
        "BERbalancedVLatest = BERnotbalancedVLatest[0:1788]"
      ],
      "execution_count": 0,
      "outputs": []
    },
    {
      "cell_type": "code",
      "metadata": {
        "id": "7A35LS7rQubd",
        "colab_type": "code",
        "colab": {}
      },
      "source": [
        "BERData[\"value\"] = BERData[\"temperature\"] - BERbalancedVLatest"
      ],
      "execution_count": 0,
      "outputs": []
    },
    {
      "cell_type": "code",
      "metadata": {
        "id": "YJcySx6TQzFL",
        "colab_type": "code",
        "colab": {}
      },
      "source": [
        "BERData = BERData.drop(['temperature'], axis=1)"
      ],
      "execution_count": 0,
      "outputs": []
    },
    {
      "cell_type": "code",
      "metadata": {
        "id": "dmptrzAVQ1Ib",
        "colab_type": "code",
        "colab": {}
      },
      "source": [
        "BERData = BERData.drop(['station'], axis=1)"
      ],
      "execution_count": 0,
      "outputs": []
    },
    {
      "cell_type": "code",
      "metadata": {
        "id": "tYIF0uydQ3Zo",
        "colab_type": "code",
        "colab": {}
      },
      "source": [
        "BERData.to_csv('BER_data_1981-2010.csv', sep=',', encoding='utf-8', index=False)"
      ],
      "execution_count": 0,
      "outputs": []
    },
    {
      "cell_type": "code",
      "metadata": {
        "id": "QeTIsOy-FKCR",
        "colab_type": "code",
        "colab": {}
      },
      "source": [
        "CHMData = df[3584:5372]\n",
        "CHMData = CHMData.reset_index(drop=True)"
      ],
      "execution_count": 0,
      "outputs": []
    },
    {
      "cell_type": "code",
      "metadata": {
        "id": "dcs_sqYQRazA",
        "colab_type": "code",
        "colab": {}
      },
      "source": [
        "CHMDataLatest = CHMData[1320:1680]"
      ],
      "execution_count": 0,
      "outputs": []
    },
    {
      "cell_type": "code",
      "metadata": {
        "id": "EPMKdFmxRnOh",
        "colab_type": "code",
        "colab": {}
      },
      "source": [
        "CHMnormVLatest = CHMDataLatest.groupby(by=\"month\").transform(\"mean\")[\"temperature\"]"
      ],
      "execution_count": 0,
      "outputs": []
    },
    {
      "cell_type": "code",
      "metadata": {
        "id": "SEgSmJ7pR5Go",
        "colab_type": "code",
        "colab": {}
      },
      "source": [
        "CHMnotbalancedVLatest = CHMnormVLatest.append([CHMnormVLatest]*4, ignore_index=True)"
      ],
      "execution_count": 0,
      "outputs": []
    },
    {
      "cell_type": "code",
      "metadata": {
        "id": "9u0sQ2cAR-ID",
        "colab_type": "code",
        "colab": {}
      },
      "source": [
        "CHMbalancedVLatest = CHMnotbalancedVLatest[0:1788]"
      ],
      "execution_count": 0,
      "outputs": []
    },
    {
      "cell_type": "code",
      "metadata": {
        "id": "XRkqqrqUSB5Z",
        "colab_type": "code",
        "colab": {}
      },
      "source": [
        "CHMData[\"value\"] = CHMData[\"temperature\"] - CHMbalancedVLatest"
      ],
      "execution_count": 0,
      "outputs": []
    },
    {
      "cell_type": "code",
      "metadata": {
        "id": "ji_meVnuSFj3",
        "colab_type": "code",
        "colab": {}
      },
      "source": [
        "CHMData = CHMData.drop(['temperature'], axis=1)"
      ],
      "execution_count": 0,
      "outputs": []
    },
    {
      "cell_type": "code",
      "metadata": {
        "id": "owktSUqTSPRZ",
        "colab_type": "code",
        "colab": {}
      },
      "source": [
        "CHMData = CHMData.drop(['station'], axis=1)"
      ],
      "execution_count": 0,
      "outputs": []
    },
    {
      "cell_type": "code",
      "metadata": {
        "id": "OHrqz_fCSIY-",
        "colab_type": "code",
        "colab": {}
      },
      "source": [
        "CHMData.to_csv('CHM_data_1981-2010.csv', sep=',', encoding='utf-8', index=False)"
      ],
      "execution_count": 0,
      "outputs": []
    },
    {
      "cell_type": "code",
      "metadata": {
        "id": "fhX3OXEgSTtz",
        "colab_type": "code",
        "colab": {}
      },
      "source": [
        "CHMDataMiddle = CHMData[1080:1440]"
      ],
      "execution_count": 0,
      "outputs": []
    },
    {
      "cell_type": "code",
      "metadata": {
        "id": "jnY4S4xCTm7i",
        "colab_type": "code",
        "colab": {}
      },
      "source": [
        "CHMnormVMiddle = CHMDataMiddle.groupby(by=\"month\").transform(\"mean\")[\"temperature\"]"
      ],
      "execution_count": 0,
      "outputs": []
    },
    {
      "cell_type": "code",
      "metadata": {
        "id": "d5pHirDTTyGr",
        "colab_type": "code",
        "colab": {}
      },
      "source": [
        "CHMnotbalancedVMiddle = CHMnormVMiddle.append([CHMnormVMiddle]*4, ignore_index=True)"
      ],
      "execution_count": 0,
      "outputs": []
    },
    {
      "cell_type": "code",
      "metadata": {
        "id": "0qI2_lO_T5Kh",
        "colab_type": "code",
        "colab": {}
      },
      "source": [
        "CHMbalancedVMiddle = CHMnotbalancedVMiddle[0:1788]"
      ],
      "execution_count": 0,
      "outputs": []
    },
    {
      "cell_type": "code",
      "metadata": {
        "id": "zDKA_fbOT9SZ",
        "colab_type": "code",
        "colab": {}
      },
      "source": [
        "CHMData[\"value\"] = CHMData[\"temperature\"] - CHMbalancedVMiddle"
      ],
      "execution_count": 0,
      "outputs": []
    },
    {
      "cell_type": "code",
      "metadata": {
        "id": "n4sCQIDCUB_F",
        "colab_type": "code",
        "colab": {}
      },
      "source": [
        "CHMData = CHMData.drop(['temperature'], axis=1)"
      ],
      "execution_count": 0,
      "outputs": []
    },
    {
      "cell_type": "code",
      "metadata": {
        "id": "BMKYbyp1UEti",
        "colab_type": "code",
        "colab": {}
      },
      "source": [
        "CHMData = CHMData.drop(['station'], axis=1)"
      ],
      "execution_count": 0,
      "outputs": []
    },
    {
      "cell_type": "code",
      "metadata": {
        "id": "jqAJ2I-sUFgl",
        "colab_type": "code",
        "colab": {}
      },
      "source": [
        "CHMData.to_csv('CHM_data_1961-1990.csv', sep=',', encoding='utf-8', index=False)"
      ],
      "execution_count": 0,
      "outputs": []
    },
    {
      "cell_type": "code",
      "metadata": {
        "id": "U2UG8pARUIxJ",
        "colab_type": "code",
        "colab": {}
      },
      "source": [
        "CHMDataVorInd = CHMData[0:360]"
      ],
      "execution_count": 0,
      "outputs": []
    },
    {
      "cell_type": "code",
      "metadata": {
        "id": "BAU9N0ljVZkT",
        "colab_type": "code",
        "colab": {}
      },
      "source": [
        "CHMnormVIndus = CHMDataVorInd.groupby(by=\"month\").transform(\"mean\")[\"temperature\"]"
      ],
      "execution_count": 0,
      "outputs": []
    },
    {
      "cell_type": "code",
      "metadata": {
        "id": "8QJew0FsVoNG",
        "colab_type": "code",
        "colab": {}
      },
      "source": [
        "CHMnotbalancedVIndus = CHMnormVIndus.append([CHMnormVIndus]*4, ignore_index=True)"
      ],
      "execution_count": 0,
      "outputs": []
    },
    {
      "cell_type": "code",
      "metadata": {
        "id": "QZOe19McVajf",
        "colab_type": "code",
        "colab": {}
      },
      "source": [
        "CHMbalancedVIndus = CHMnotbalancedVIndus[0:1788]"
      ],
      "execution_count": 0,
      "outputs": []
    },
    {
      "cell_type": "code",
      "metadata": {
        "id": "mKYEd8P1Vz2m",
        "colab_type": "code",
        "colab": {}
      },
      "source": [
        "CHMData[\"value\"] = CHMData[\"temperature\"] - CHMbalancedVIndus"
      ],
      "execution_count": 0,
      "outputs": []
    },
    {
      "cell_type": "code",
      "metadata": {
        "id": "05Ee_kUaV2w2",
        "colab_type": "code",
        "colab": {}
      },
      "source": [
        "CHMData = CHMData.drop(['temperature'], axis=1)"
      ],
      "execution_count": 0,
      "outputs": []
    },
    {
      "cell_type": "code",
      "metadata": {
        "id": "TjG01EXJV36m",
        "colab_type": "code",
        "colab": {}
      },
      "source": [
        "CHMData = CHMData.drop(['station'], axis=1)"
      ],
      "execution_count": 0,
      "outputs": []
    },
    {
      "cell_type": "code",
      "metadata": {
        "id": "fYanWsimV42s",
        "colab_type": "code",
        "colab": {}
      },
      "source": [
        "CHMData.to_csv('CHM_data_1871-1900.csv', sep=',', encoding='utf-8', index=False)"
      ],
      "execution_count": 0,
      "outputs": []
    },
    {
      "cell_type": "code",
      "metadata": {
        "id": "BwQYdXT6Kz4p",
        "colab_type": "code",
        "colab": {}
      },
      "source": [
        "GSBData = df[7168:8956]\n",
        "GSBData = GSBData.reset_index(drop=True)"
      ],
      "execution_count": 0,
      "outputs": []
    },
    {
      "cell_type": "code",
      "metadata": {
        "id": "TWvBzJiqkNax",
        "colab_type": "code",
        "colab": {}
      },
      "source": [
        "GSBDataLatest = GSBData[1320:1680]"
      ],
      "execution_count": 0,
      "outputs": []
    },
    {
      "cell_type": "code",
      "metadata": {
        "id": "zKrBPCFpkahr",
        "colab_type": "code",
        "colab": {}
      },
      "source": [
        "GSBnormVLatest = GSBDataLatest.groupby(by=\"month\").transform(\"mean\")[\"temperature\"]"
      ],
      "execution_count": 0,
      "outputs": []
    },
    {
      "cell_type": "code",
      "metadata": {
        "id": "SJ1MlTsLkfUQ",
        "colab_type": "code",
        "colab": {}
      },
      "source": [
        "GSBnotbalancedVLatest = GSBnormVLatest.append([GSBnormVLatest]*4, ignore_index=True)"
      ],
      "execution_count": 0,
      "outputs": []
    },
    {
      "cell_type": "code",
      "metadata": {
        "id": "vKc2kwvwknsi",
        "colab_type": "code",
        "colab": {}
      },
      "source": [
        "GSBbalancedVLatest = GSBnotbalancedVLatest[0:1788]"
      ],
      "execution_count": 0,
      "outputs": []
    },
    {
      "cell_type": "code",
      "metadata": {
        "id": "H2NEHUj8kp0z",
        "colab_type": "code",
        "colab": {}
      },
      "source": [
        "GSBData[\"value\"] = GSBData[\"temperature\"] - GSBbalancedVLatest"
      ],
      "execution_count": 0,
      "outputs": []
    },
    {
      "cell_type": "code",
      "metadata": {
        "id": "oKXepchAkyQ5",
        "colab_type": "code",
        "colab": {}
      },
      "source": [
        "GSBData = GSBData.drop(['temperature'], axis=1)"
      ],
      "execution_count": 0,
      "outputs": []
    },
    {
      "cell_type": "code",
      "metadata": {
        "id": "a2N6juV-k1lo",
        "colab_type": "code",
        "colab": {}
      },
      "source": [
        "GSBData = GSBData.drop(['station'], axis=1)"
      ],
      "execution_count": 0,
      "outputs": []
    },
    {
      "cell_type": "code",
      "metadata": {
        "id": "kytl3jCHk3sm",
        "colab_type": "code",
        "colab": {}
      },
      "source": [
        "GSBData.to_csv('GSB_data_1981-2010.csv', sep=',', encoding='utf-8', index=False)"
      ],
      "execution_count": 0,
      "outputs": []
    },
    {
      "cell_type": "code",
      "metadata": {
        "id": "SkW45oDAk8F-",
        "colab_type": "code",
        "colab": {}
      },
      "source": [
        "GSBDataMiddle = GSBData[1080:1440]"
      ],
      "execution_count": 0,
      "outputs": []
    },
    {
      "cell_type": "code",
      "metadata": {
        "id": "27eukR7tlQ2L",
        "colab_type": "code",
        "colab": {}
      },
      "source": [
        "GSBnormVMiddle = GSBDataMiddle.groupby(by=\"month\").transform(\"mean\")[\"temperature\"]"
      ],
      "execution_count": 0,
      "outputs": []
    },
    {
      "cell_type": "code",
      "metadata": {
        "id": "KFwBwueglXWr",
        "colab_type": "code",
        "colab": {}
      },
      "source": [
        "GSBnotbalancedVMiddle = GSBnormVMiddle.append([GSBnormVMiddle]*4, ignore_index=True)"
      ],
      "execution_count": 0,
      "outputs": []
    },
    {
      "cell_type": "code",
      "metadata": {
        "id": "0HytDWy9lbU_",
        "colab_type": "code",
        "colab": {}
      },
      "source": [
        "GSBbalancedVMiddle = GSBnotbalancedVMiddle[0:1788]"
      ],
      "execution_count": 0,
      "outputs": []
    },
    {
      "cell_type": "code",
      "metadata": {
        "id": "t9f4zwBBlhU9",
        "colab_type": "code",
        "colab": {}
      },
      "source": [
        "GSBData[\"value\"] = GSBData[\"temperature\"] - GSBbalancedVMiddle"
      ],
      "execution_count": 0,
      "outputs": []
    },
    {
      "cell_type": "code",
      "metadata": {
        "id": "0zlZuy7Ellbp",
        "colab_type": "code",
        "colab": {}
      },
      "source": [
        "GSBData = GSBData.drop(['temperature'], axis=1)"
      ],
      "execution_count": 0,
      "outputs": []
    },
    {
      "cell_type": "code",
      "metadata": {
        "id": "6g4y-t1hlpIY",
        "colab_type": "code",
        "colab": {}
      },
      "source": [
        "GSBData = GSBData.drop(['station'], axis=1)"
      ],
      "execution_count": 0,
      "outputs": []
    },
    {
      "cell_type": "code",
      "metadata": {
        "id": "WndWnLnXlq0X",
        "colab_type": "code",
        "colab": {}
      },
      "source": [
        "GSBData.to_csv('GSB_data_1961-1990.csv', sep=',', encoding='utf-8', index=False)"
      ],
      "execution_count": 0,
      "outputs": []
    },
    {
      "cell_type": "code",
      "metadata": {
        "id": "bbyZe8zEluVp",
        "colab_type": "code",
        "colab": {}
      },
      "source": [
        "GSBDataVorInd = GSBData[0:360]"
      ],
      "execution_count": 0,
      "outputs": []
    },
    {
      "cell_type": "code",
      "metadata": {
        "id": "K22ImgfFmKmR",
        "colab_type": "code",
        "colab": {}
      },
      "source": [
        "GSBnormVIndus = GSBDataVorInd.groupby(by=\"month\").transform(\"mean\")[\"temperature\"]"
      ],
      "execution_count": 0,
      "outputs": []
    },
    {
      "cell_type": "code",
      "metadata": {
        "id": "qpGsZMAumPVT",
        "colab_type": "code",
        "colab": {}
      },
      "source": [
        "GSBnotbalancedVIndus = GSBnormVIndus.append([GSBnormVIndus]*4, ignore_index=True)"
      ],
      "execution_count": 0,
      "outputs": []
    },
    {
      "cell_type": "code",
      "metadata": {
        "id": "HKgCmXzEmUP7",
        "colab_type": "code",
        "colab": {}
      },
      "source": [
        "GSBbalancedVIndus = GSBnotbalancedVIndus[0:1788]"
      ],
      "execution_count": 0,
      "outputs": []
    },
    {
      "cell_type": "code",
      "metadata": {
        "id": "SPFJWeMamY5I",
        "colab_type": "code",
        "colab": {}
      },
      "source": [
        "GSBData[\"value\"] = GSBData[\"temperature\"] - GSBbalancedVIndus"
      ],
      "execution_count": 0,
      "outputs": []
    },
    {
      "cell_type": "code",
      "metadata": {
        "id": "_-ljyARjmdKS",
        "colab_type": "code",
        "colab": {}
      },
      "source": [
        "GSBData = GSBData.drop(['temperature'], axis=1)"
      ],
      "execution_count": 0,
      "outputs": []
    },
    {
      "cell_type": "code",
      "metadata": {
        "id": "Vw_TRXkQmfIN",
        "colab_type": "code",
        "colab": {}
      },
      "source": [
        "GSBData = GSBData.drop(['station'], axis=1)"
      ],
      "execution_count": 0,
      "outputs": []
    },
    {
      "cell_type": "code",
      "metadata": {
        "id": "HzM_YNczmgXu",
        "colab_type": "code",
        "colab": {}
      },
      "source": [
        "GSBData.to_csv('GSB_data_1871-1900.csv', sep=',', encoding='utf-8', index=False)"
      ],
      "execution_count": 0,
      "outputs": []
    },
    {
      "cell_type": "code",
      "metadata": {
        "id": "bxYph3D2Lowz",
        "colab_type": "code",
        "colab": {}
      },
      "source": [
        "DAVData = df[8960:10748]\n",
        "DAVData = DAVData.reset_index(drop=True)"
      ],
      "execution_count": 0,
      "outputs": []
    },
    {
      "cell_type": "code",
      "metadata": {
        "id": "2HP_lqNXmoVI",
        "colab_type": "code",
        "colab": {}
      },
      "source": [
        "DAVDataLatest = DAVData[1320:1680]"
      ],
      "execution_count": 0,
      "outputs": []
    },
    {
      "cell_type": "code",
      "metadata": {
        "id": "V-xRseEjmtNB",
        "colab_type": "code",
        "colab": {}
      },
      "source": [
        "DAVnormVLatest = DAVDataLatest.groupby(by=\"month\").transform(\"mean\")[\"temperature\"]"
      ],
      "execution_count": 0,
      "outputs": []
    },
    {
      "cell_type": "code",
      "metadata": {
        "id": "ioiHZxIOmx1E",
        "colab_type": "code",
        "colab": {}
      },
      "source": [
        "DAVnotbalancedVLatest = DAVnormVLatest.append([DAVnormVLatest]*4, ignore_index=True)"
      ],
      "execution_count": 0,
      "outputs": []
    },
    {
      "cell_type": "code",
      "metadata": {
        "id": "vH29BPxdm2NM",
        "colab_type": "code",
        "colab": {}
      },
      "source": [
        "DAVbalancedVLatest = DAVnotbalancedVLatest[0:1788]"
      ],
      "execution_count": 0,
      "outputs": []
    },
    {
      "cell_type": "code",
      "metadata": {
        "id": "4N_6lDbTm5e7",
        "colab_type": "code",
        "colab": {}
      },
      "source": [
        "DAVData[\"value\"] = DAVData[\"temperature\"] - DAVbalancedVLatest"
      ],
      "execution_count": 0,
      "outputs": []
    },
    {
      "cell_type": "code",
      "metadata": {
        "id": "fbr995d7m9F3",
        "colab_type": "code",
        "colab": {}
      },
      "source": [
        "DAVData = DAVData.drop(['temperature'], axis=1)"
      ],
      "execution_count": 0,
      "outputs": []
    },
    {
      "cell_type": "code",
      "metadata": {
        "id": "cV7ofVMonAHE",
        "colab_type": "code",
        "colab": {}
      },
      "source": [
        "DAVData = DAVData.drop(['station'], axis=1)"
      ],
      "execution_count": 0,
      "outputs": []
    },
    {
      "cell_type": "code",
      "metadata": {
        "id": "i2Rj2rfz-mCn",
        "colab_type": "code",
        "colab": {}
      },
      "source": [
        "DAVData.to_csv('DAV_data_1981-2010.csv', sep=',', encoding='utf-8', index=False)"
      ],
      "execution_count": 0,
      "outputs": []
    },
    {
      "cell_type": "code",
      "metadata": {
        "id": "RPGrxVvknBZf",
        "colab_type": "code",
        "colab": {}
      },
      "source": [
        "DAVDataMiddle = DAVData[1080:1440]"
      ],
      "execution_count": 0,
      "outputs": []
    },
    {
      "cell_type": "code",
      "metadata": {
        "id": "PFcD92SfnesS",
        "colab_type": "code",
        "colab": {}
      },
      "source": [
        "DAVnormVMiddle = DAVDataMiddle.groupby(by=\"month\").transform(\"mean\")[\"temperature\"]"
      ],
      "execution_count": 0,
      "outputs": []
    },
    {
      "cell_type": "code",
      "metadata": {
        "id": "J6YX-i3nnjNf",
        "colab_type": "code",
        "colab": {}
      },
      "source": [
        "DAVnotbalancedVMiddle = DAVnormVMiddle.append([DAVnormVMiddle]*4, ignore_index=True)"
      ],
      "execution_count": 0,
      "outputs": []
    },
    {
      "cell_type": "code",
      "metadata": {
        "id": "wnECTbcrnm-d",
        "colab_type": "code",
        "colab": {}
      },
      "source": [
        "DAVbalancedVMiddle = DAVnotbalancedVMiddle[0:1788]"
      ],
      "execution_count": 0,
      "outputs": []
    },
    {
      "cell_type": "code",
      "metadata": {
        "id": "ydm-KAEdnp3I",
        "colab_type": "code",
        "colab": {}
      },
      "source": [
        "DAVData[\"value\"] = DAVData[\"temperature\"] - DAVbalancedVMiddle"
      ],
      "execution_count": 0,
      "outputs": []
    },
    {
      "cell_type": "code",
      "metadata": {
        "id": "gcUWC0_vnteU",
        "colab_type": "code",
        "colab": {}
      },
      "source": [
        "DAVData = DAVData.drop(['temperature'], axis=1)"
      ],
      "execution_count": 0,
      "outputs": []
    },
    {
      "cell_type": "code",
      "metadata": {
        "id": "dSQRzfDmnwsF",
        "colab_type": "code",
        "colab": {}
      },
      "source": [
        "DAVData = DAVData.drop(['station'], axis=1)"
      ],
      "execution_count": 0,
      "outputs": []
    },
    {
      "cell_type": "code",
      "metadata": {
        "id": "0Skq95iMnxzt",
        "colab_type": "code",
        "colab": {}
      },
      "source": [
        "DAVData.to_csv('DAV_data_1961-1990.csv', sep=',', encoding='utf-8', index=False)"
      ],
      "execution_count": 0,
      "outputs": []
    },
    {
      "cell_type": "code",
      "metadata": {
        "id": "U15SlMp-n1EU",
        "colab_type": "code",
        "colab": {}
      },
      "source": [
        "DAVDataVorInd = DAVData[0:360]"
      ],
      "execution_count": 0,
      "outputs": []
    },
    {
      "cell_type": "code",
      "metadata": {
        "id": "eZKDrrutoLPF",
        "colab_type": "code",
        "colab": {}
      },
      "source": [
        "DAVnormVIndus = DAVDataVorInd.groupby(by=\"month\").transform(\"mean\")[\"temperature\"]"
      ],
      "execution_count": 0,
      "outputs": []
    },
    {
      "cell_type": "code",
      "metadata": {
        "id": "X-RHTPb4oO6U",
        "colab_type": "code",
        "colab": {}
      },
      "source": [
        "DAVnotbalancedVIndus = DAVnormVIndus.append([DAVnormVIndus]*4, ignore_index=True)"
      ],
      "execution_count": 0,
      "outputs": []
    },
    {
      "cell_type": "code",
      "metadata": {
        "id": "3Sj5J_VMoSf1",
        "colab_type": "code",
        "colab": {}
      },
      "source": [
        "DAVbalancedVIndus = DAVnotbalancedVIndus[0:1788]"
      ],
      "execution_count": 0,
      "outputs": []
    },
    {
      "cell_type": "code",
      "metadata": {
        "id": "52gqFFMVoVsX",
        "colab_type": "code",
        "colab": {}
      },
      "source": [
        "DAVData[\"value\"] = DAVData[\"temperature\"] - DAVbalancedVIndus"
      ],
      "execution_count": 0,
      "outputs": []
    },
    {
      "cell_type": "code",
      "metadata": {
        "id": "54-3G0CioY2w",
        "colab_type": "code",
        "colab": {}
      },
      "source": [
        "DAVData = DAVData.drop(['temperature'], axis=1)"
      ],
      "execution_count": 0,
      "outputs": []
    },
    {
      "cell_type": "code",
      "metadata": {
        "id": "ohllYVILob16",
        "colab_type": "code",
        "colab": {}
      },
      "source": [
        "DAVData = DAVData.drop(['station'], axis=1)"
      ],
      "execution_count": 0,
      "outputs": []
    },
    {
      "cell_type": "code",
      "metadata": {
        "id": "351vU4dbodJA",
        "colab_type": "code",
        "colab": {}
      },
      "source": [
        "DAVData.to_csv('DAV_data_1871-1900.csv', sep=',', encoding='utf-8', index=False)"
      ],
      "execution_count": 0,
      "outputs": []
    },
    {
      "cell_type": "code",
      "metadata": {
        "id": "2046kTfiL0PI",
        "colab_type": "code",
        "colab": {}
      },
      "source": [
        "ENGData = df[10752:12540]\n",
        "ENGData = ENGData.reset_index(drop=True)"
      ],
      "execution_count": 0,
      "outputs": []
    },
    {
      "cell_type": "code",
      "metadata": {
        "id": "tt7LhjKoomw2",
        "colab_type": "code",
        "colab": {}
      },
      "source": [
        "ENGDataLatest = ENGData[1320:1680]"
      ],
      "execution_count": 0,
      "outputs": []
    },
    {
      "cell_type": "code",
      "metadata": {
        "id": "obOKFkRSop6b",
        "colab_type": "code",
        "colab": {}
      },
      "source": [
        "ENGnormVLatest = ENGDataLatest.groupby(by=\"month\").transform(\"mean\")[\"temperature\"]"
      ],
      "execution_count": 0,
      "outputs": []
    },
    {
      "cell_type": "code",
      "metadata": {
        "id": "SvNKw_KtosjU",
        "colab_type": "code",
        "colab": {}
      },
      "source": [
        "ENGnotbalancedVLatest = ENGnormVLatest.append([ENGnormVLatest]*4, ignore_index=True)"
      ],
      "execution_count": 0,
      "outputs": []
    },
    {
      "cell_type": "code",
      "metadata": {
        "id": "krQC5umQowKq",
        "colab_type": "code",
        "colab": {}
      },
      "source": [
        "ENGbalancedVLatest = ENGnotbalancedVLatest[0:1788]"
      ],
      "execution_count": 0,
      "outputs": []
    },
    {
      "cell_type": "code",
      "metadata": {
        "id": "h9RCvMbToy0i",
        "colab_type": "code",
        "colab": {}
      },
      "source": [
        "ENGData[\"value\"] = ENGData[\"temperature\"] - ENGbalancedVLatest"
      ],
      "execution_count": 0,
      "outputs": []
    },
    {
      "cell_type": "code",
      "metadata": {
        "id": "Z1RBCZkto2du",
        "colab_type": "code",
        "colab": {}
      },
      "source": [
        "ENGData = ENGData.drop(['temperature'], axis=1)"
      ],
      "execution_count": 0,
      "outputs": []
    },
    {
      "cell_type": "code",
      "metadata": {
        "id": "YAV1KXUvo5bq",
        "colab_type": "code",
        "colab": {}
      },
      "source": [
        "ENGData = ENGData.drop(['station'], axis=1)"
      ],
      "execution_count": 0,
      "outputs": []
    },
    {
      "cell_type": "code",
      "metadata": {
        "id": "0tG3xQ4ho6lV",
        "colab_type": "code",
        "colab": {}
      },
      "source": [
        "ENGData.to_csv('ENG_data_1981-2010.csv', sep=',', encoding='utf-8', index=False)"
      ],
      "execution_count": 0,
      "outputs": []
    },
    {
      "cell_type": "code",
      "metadata": {
        "id": "aaIOOP5QpfL5",
        "colab_type": "code",
        "colab": {}
      },
      "source": [
        "ENGDataMiddle = ENGData[1080:1440]"
      ],
      "execution_count": 0,
      "outputs": []
    },
    {
      "cell_type": "code",
      "metadata": {
        "id": "S0FkidkNpgpC",
        "colab_type": "code",
        "colab": {}
      },
      "source": [
        "ENGnormVMiddle = ENGDataMiddle.groupby(by=\"month\").transform(\"mean\")[\"temperature\"]"
      ],
      "execution_count": 0,
      "outputs": []
    },
    {
      "cell_type": "code",
      "metadata": {
        "id": "vgMi7ze-pjlF",
        "colab_type": "code",
        "colab": {}
      },
      "source": [
        "ENGnotbalancedVMiddle = ENGnormVMiddle.append([ENGnormVMiddle]*4, ignore_index=True)"
      ],
      "execution_count": 0,
      "outputs": []
    },
    {
      "cell_type": "code",
      "metadata": {
        "id": "pwBlALKQp6Jw",
        "colab_type": "code",
        "colab": {}
      },
      "source": [
        "ENGbalancedVMiddle = ENGnotbalancedVMiddle[0:1788]"
      ],
      "execution_count": 0,
      "outputs": []
    },
    {
      "cell_type": "code",
      "metadata": {
        "id": "9RJdpnVBp9db",
        "colab_type": "code",
        "colab": {}
      },
      "source": [
        "ENGData[\"value\"] = ENGData[\"temperature\"] - ENGbalancedVMiddle"
      ],
      "execution_count": 0,
      "outputs": []
    },
    {
      "cell_type": "code",
      "metadata": {
        "id": "VGJqY7_hqAKj",
        "colab_type": "code",
        "colab": {}
      },
      "source": [
        "ENGData = ENGData.drop(['temperature'], axis=1)"
      ],
      "execution_count": 0,
      "outputs": []
    },
    {
      "cell_type": "code",
      "metadata": {
        "id": "vh3vD7RSqBPu",
        "colab_type": "code",
        "colab": {}
      },
      "source": [
        "ENGData = ENGData.drop(['station'], axis=1)"
      ],
      "execution_count": 0,
      "outputs": []
    },
    {
      "cell_type": "code",
      "metadata": {
        "id": "3V1AKSC7qCNU",
        "colab_type": "code",
        "colab": {}
      },
      "source": [
        "ENGData.to_csv('ENG_data_1961-1990.csv', sep=',', encoding='utf-8', index=False)"
      ],
      "execution_count": 0,
      "outputs": []
    },
    {
      "cell_type": "code",
      "metadata": {
        "id": "lc4nAeGqqFnK",
        "colab_type": "code",
        "colab": {}
      },
      "source": [
        "ENGDataVorInd = ENGData[0:360]"
      ],
      "execution_count": 0,
      "outputs": []
    },
    {
      "cell_type": "code",
      "metadata": {
        "id": "_tPJK8rurOMe",
        "colab_type": "code",
        "colab": {}
      },
      "source": [
        "ENGnormVIndus = ENGDataVorInd.groupby(by=\"month\").transform(\"mean\")[\"temperature\"]"
      ],
      "execution_count": 0,
      "outputs": []
    },
    {
      "cell_type": "code",
      "metadata": {
        "id": "M3yqUx6XrRYz",
        "colab_type": "code",
        "colab": {}
      },
      "source": [
        "ENGnotbalancedVIndus = ENGnormVIndus.append([ENGnormVIndus]*4, ignore_index=True)"
      ],
      "execution_count": 0,
      "outputs": []
    },
    {
      "cell_type": "code",
      "metadata": {
        "id": "bXkpPmO6rVjK",
        "colab_type": "code",
        "colab": {}
      },
      "source": [
        "ENGbalancedVIndus = ENGnotbalancedVIndus[0:1788]"
      ],
      "execution_count": 0,
      "outputs": []
    },
    {
      "cell_type": "code",
      "metadata": {
        "id": "3P80FI4_rYHC",
        "colab_type": "code",
        "colab": {}
      },
      "source": [
        "ENGData[\"value\"] = ENGData[\"temperature\"] - ENGbalancedVIndus"
      ],
      "execution_count": 0,
      "outputs": []
    },
    {
      "cell_type": "code",
      "metadata": {
        "id": "a-dnSW0MreDv",
        "colab_type": "code",
        "colab": {}
      },
      "source": [
        "ENGData = ENGData.drop(['temperature'], axis=1)"
      ],
      "execution_count": 0,
      "outputs": []
    },
    {
      "cell_type": "code",
      "metadata": {
        "id": "_A5KJaRcrfJO",
        "colab_type": "code",
        "colab": {}
      },
      "source": [
        "ENGData = ENGData.drop(['station'], axis=1)"
      ],
      "execution_count": 0,
      "outputs": []
    },
    {
      "cell_type": "code",
      "metadata": {
        "id": "4c79ayS3rf-v",
        "colab_type": "code",
        "colab": {}
      },
      "source": [
        "ENGData.to_csv('ENG_data_1871-1900.csv', sep=',', encoding='utf-8', index=False)"
      ],
      "execution_count": 0,
      "outputs": []
    },
    {
      "cell_type": "code",
      "metadata": {
        "id": "fAFUECYIL4pf",
        "colab_type": "code",
        "colab": {}
      },
      "source": [
        "GVEData = df[12544:14332]\n",
        "GVEData = GVEData.reset_index(drop=True)"
      ],
      "execution_count": 0,
      "outputs": []
    },
    {
      "cell_type": "code",
      "metadata": {
        "id": "mvfpsy84r-WB",
        "colab_type": "code",
        "colab": {}
      },
      "source": [
        "GVEDataLatest = GVEData[1320:1680]"
      ],
      "execution_count": 0,
      "outputs": []
    },
    {
      "cell_type": "code",
      "metadata": {
        "id": "jxjNH7I6sB6j",
        "colab_type": "code",
        "colab": {}
      },
      "source": [
        "GVEnormVLatest = GVEDataLatest.groupby(by=\"month\").transform(\"mean\")[\"temperature\"]"
      ],
      "execution_count": 0,
      "outputs": []
    },
    {
      "cell_type": "code",
      "metadata": {
        "id": "c23Tok_WsEr9",
        "colab_type": "code",
        "colab": {}
      },
      "source": [
        "GVEnotbalancedVLatest = GVEnormVLatest.append([GVEnormVLatest]*4, ignore_index=True)"
      ],
      "execution_count": 0,
      "outputs": []
    },
    {
      "cell_type": "code",
      "metadata": {
        "id": "PeceM6UCsIgI",
        "colab_type": "code",
        "colab": {}
      },
      "source": [
        "GVEbalancedVLatest = GVEnotbalancedVLatest[0:1788]"
      ],
      "execution_count": 0,
      "outputs": []
    },
    {
      "cell_type": "code",
      "metadata": {
        "id": "jiQowfSmsLZm",
        "colab_type": "code",
        "colab": {}
      },
      "source": [
        "GVEData[\"value\"] = GVEData[\"temperature\"] - GVEbalancedVLatest"
      ],
      "execution_count": 0,
      "outputs": []
    },
    {
      "cell_type": "code",
      "metadata": {
        "id": "RsSAvfQ8sPBb",
        "colab_type": "code",
        "colab": {}
      },
      "source": [
        "GVEData = GVEData.drop(['temperature'], axis=1)"
      ],
      "execution_count": 0,
      "outputs": []
    },
    {
      "cell_type": "code",
      "metadata": {
        "id": "8B74tD1jsRvi",
        "colab_type": "code",
        "colab": {}
      },
      "source": [
        "GVEData = GVEData.drop(['station'], axis=1)"
      ],
      "execution_count": 0,
      "outputs": []
    },
    {
      "cell_type": "code",
      "metadata": {
        "id": "dr6bYkvcsS9c",
        "colab_type": "code",
        "colab": {}
      },
      "source": [
        "GVEData.to_csv('GVE_data_1981-2010.csv', sep=',', encoding='utf-8', index=False)"
      ],
      "execution_count": 0,
      "outputs": []
    },
    {
      "cell_type": "code",
      "metadata": {
        "id": "O_ZYiDijsnBw",
        "colab_type": "code",
        "colab": {}
      },
      "source": [
        "GVEDataMiddle = GVEData[1080:1440]"
      ],
      "execution_count": 0,
      "outputs": []
    },
    {
      "cell_type": "code",
      "metadata": {
        "id": "2-mc1j5vtFt2",
        "colab_type": "code",
        "colab": {}
      },
      "source": [
        "GVEnormVMiddle = GVEDataMiddle.groupby(by=\"month\").transform(\"mean\")[\"temperature\"]"
      ],
      "execution_count": 0,
      "outputs": []
    },
    {
      "cell_type": "code",
      "metadata": {
        "id": "L9O1s10btJHc",
        "colab_type": "code",
        "colab": {}
      },
      "source": [
        "GVEnotbalancedVMiddle = GVEnormVMiddle.append([GVEnormVMiddle]*4, ignore_index=True)"
      ],
      "execution_count": 0,
      "outputs": []
    },
    {
      "cell_type": "code",
      "metadata": {
        "id": "m54Z_MdrtMQv",
        "colab_type": "code",
        "colab": {}
      },
      "source": [
        "GVEbalancedVMiddle = GVEnotbalancedVMiddle[0:1788]"
      ],
      "execution_count": 0,
      "outputs": []
    },
    {
      "cell_type": "code",
      "metadata": {
        "id": "5RvhKWb9tPeN",
        "colab_type": "code",
        "colab": {}
      },
      "source": [
        "GVEData[\"value\"] = GVEData[\"temperature\"] - GVEbalancedVMiddle"
      ],
      "execution_count": 0,
      "outputs": []
    },
    {
      "cell_type": "code",
      "metadata": {
        "id": "9eIgoVTftS7q",
        "colab_type": "code",
        "colab": {}
      },
      "source": [
        "GVEData = GVEData.drop(['temperature'], axis=1)"
      ],
      "execution_count": 0,
      "outputs": []
    },
    {
      "cell_type": "code",
      "metadata": {
        "id": "u-CWttEXtUKN",
        "colab_type": "code",
        "colab": {}
      },
      "source": [
        "GVEData = GVEData.drop(['station'], axis=1)"
      ],
      "execution_count": 0,
      "outputs": []
    },
    {
      "cell_type": "code",
      "metadata": {
        "id": "N8o1ZtyftXDk",
        "colab_type": "code",
        "colab": {}
      },
      "source": [
        "GVEData.to_csv('GVE_data_1961-1990.csv', sep=',', encoding='utf-8', index=False)"
      ],
      "execution_count": 0,
      "outputs": []
    },
    {
      "cell_type": "code",
      "metadata": {
        "id": "XaRJVQ_htoha",
        "colab_type": "code",
        "colab": {}
      },
      "source": [
        "GVEDataVorInd = GVEData[0:360]"
      ],
      "execution_count": 0,
      "outputs": []
    },
    {
      "cell_type": "code",
      "metadata": {
        "id": "CJlSch8BtqJk",
        "colab_type": "code",
        "colab": {}
      },
      "source": [
        "GVEnormVIndus = GVEDataVorInd.groupby(by=\"month\").transform(\"mean\")[\"temperature\"]"
      ],
      "execution_count": 0,
      "outputs": []
    },
    {
      "cell_type": "code",
      "metadata": {
        "id": "d-V6PFkmtuW7",
        "colab_type": "code",
        "colab": {}
      },
      "source": [
        "GVEnotbalancedVIndus = GVEnormVIndus.append([GVEnormVIndus]*4, ignore_index=True)"
      ],
      "execution_count": 0,
      "outputs": []
    },
    {
      "cell_type": "code",
      "metadata": {
        "id": "QIzDsBcktxc4",
        "colab_type": "code",
        "colab": {}
      },
      "source": [
        "GVEbalancedVIndus = GVEnotbalancedVIndus[0:1788]"
      ],
      "execution_count": 0,
      "outputs": []
    },
    {
      "cell_type": "code",
      "metadata": {
        "id": "wsjw8v1Wt0dc",
        "colab_type": "code",
        "colab": {}
      },
      "source": [
        "GVEData[\"value\"] = GVEData[\"temperature\"] - GVEbalancedVIndus"
      ],
      "execution_count": 0,
      "outputs": []
    },
    {
      "cell_type": "code",
      "metadata": {
        "id": "Sq1skj1ht349",
        "colab_type": "code",
        "colab": {}
      },
      "source": [
        "GVEData = GVEData.drop(['temperature'], axis=1)"
      ],
      "execution_count": 0,
      "outputs": []
    },
    {
      "cell_type": "code",
      "metadata": {
        "id": "Pkwk9ACpt4-J",
        "colab_type": "code",
        "colab": {}
      },
      "source": [
        "GVEData = GVEData.drop(['station'], axis=1)"
      ],
      "execution_count": 0,
      "outputs": []
    },
    {
      "cell_type": "code",
      "metadata": {
        "id": "sXTWE9wVt6DF",
        "colab_type": "code",
        "colab": {}
      },
      "source": [
        "GVEData.to_csv('GVE_data_1871-1900.csv', sep=',', encoding='utf-8', index=False)"
      ],
      "execution_count": 0,
      "outputs": []
    },
    {
      "cell_type": "code",
      "metadata": {
        "id": "n9E9lHCxML0X",
        "colab_type": "code",
        "colab": {}
      },
      "source": [
        "LUGData = df[14336:16124]\n",
        "LUGData = LUGData.reset_index(drop=True)"
      ],
      "execution_count": 0,
      "outputs": []
    },
    {
      "cell_type": "code",
      "metadata": {
        "id": "b2ucE6opt_vS",
        "colab_type": "code",
        "colab": {}
      },
      "source": [
        "LUGDataLatest = LUGData[1320:1680]"
      ],
      "execution_count": 0,
      "outputs": []
    },
    {
      "cell_type": "code",
      "metadata": {
        "id": "RJLtrfCuuDVQ",
        "colab_type": "code",
        "colab": {}
      },
      "source": [
        "LUGnormVLatest = LUGDataLatest.groupby(by=\"month\").transform(\"mean\")[\"temperature\"]"
      ],
      "execution_count": 0,
      "outputs": []
    },
    {
      "cell_type": "code",
      "metadata": {
        "id": "iJMDENunuHI-",
        "colab_type": "code",
        "colab": {}
      },
      "source": [
        "LUGnotbalancedVLatest = LUGnormVLatest.append([LUGnormVLatest]*4, ignore_index=True)"
      ],
      "execution_count": 0,
      "outputs": []
    },
    {
      "cell_type": "code",
      "metadata": {
        "id": "aDqGff_AuK22",
        "colab_type": "code",
        "colab": {}
      },
      "source": [
        "LUGbalancedVLatest = LUGnotbalancedVLatest[0:1788]"
      ],
      "execution_count": 0,
      "outputs": []
    },
    {
      "cell_type": "code",
      "metadata": {
        "id": "NVsnj8d5uOJ8",
        "colab_type": "code",
        "colab": {}
      },
      "source": [
        "LUGData[\"value\"] = LUGData[\"temperature\"] - LUGbalancedVLatest"
      ],
      "execution_count": 0,
      "outputs": []
    },
    {
      "cell_type": "code",
      "metadata": {
        "id": "I7y8zfoBuRxO",
        "colab_type": "code",
        "colab": {}
      },
      "source": [
        "LUGData = LUGData.drop(['temperature'], axis=1)"
      ],
      "execution_count": 0,
      "outputs": []
    },
    {
      "cell_type": "code",
      "metadata": {
        "id": "u7EZmYP4uUcQ",
        "colab_type": "code",
        "colab": {}
      },
      "source": [
        "LUGData = LUGData.drop(['station'], axis=1)"
      ],
      "execution_count": 0,
      "outputs": []
    },
    {
      "cell_type": "code",
      "metadata": {
        "id": "7gv-P1PJDCeS",
        "colab_type": "code",
        "colab": {}
      },
      "source": [
        "LUGData.to_csv('LUG_data_1981-2010.csv', sep=',', encoding='utf-8', index=False)"
      ],
      "execution_count": 0,
      "outputs": []
    },
    {
      "cell_type": "code",
      "metadata": {
        "id": "eodAJ1AOuszD",
        "colab_type": "code",
        "colab": {}
      },
      "source": [
        "LUGDataMiddle = LUGData[1080:1440]"
      ],
      "execution_count": 0,
      "outputs": []
    },
    {
      "cell_type": "code",
      "metadata": {
        "id": "qes5AzpVu0wv",
        "colab_type": "code",
        "colab": {}
      },
      "source": [
        "LUGnormVMiddle = LUGDataMiddle.groupby(by=\"month\").transform(\"mean\")[\"temperature\"]"
      ],
      "execution_count": 0,
      "outputs": []
    },
    {
      "cell_type": "code",
      "metadata": {
        "id": "23deZ8HZu78a",
        "colab_type": "code",
        "colab": {}
      },
      "source": [
        "LUGnotbalancedVMiddle = LUGnormVMiddle.append([LUGnormVMiddle]*4, ignore_index=True)"
      ],
      "execution_count": 0,
      "outputs": []
    },
    {
      "cell_type": "code",
      "metadata": {
        "id": "QP0aUIygu_gS",
        "colab_type": "code",
        "colab": {}
      },
      "source": [
        "LUGbalancedVMiddle = LUGnotbalancedVMiddle[0:1788]"
      ],
      "execution_count": 0,
      "outputs": []
    },
    {
      "cell_type": "code",
      "metadata": {
        "id": "FQ6Bdz0tvCdw",
        "colab_type": "code",
        "colab": {}
      },
      "source": [
        "LUGData[\"value\"] = LUGData[\"temperature\"] - LUGbalancedVMiddle"
      ],
      "execution_count": 0,
      "outputs": []
    },
    {
      "cell_type": "code",
      "metadata": {
        "id": "XMGj53ogvF2e",
        "colab_type": "code",
        "colab": {}
      },
      "source": [
        "LUGData = LUGData.drop(['temperature'], axis=1)"
      ],
      "execution_count": 0,
      "outputs": []
    },
    {
      "cell_type": "code",
      "metadata": {
        "id": "ac5e6D5NvHEh",
        "colab_type": "code",
        "colab": {}
      },
      "source": [
        "LUGData = LUGData.drop(['station'], axis=1)"
      ],
      "execution_count": 0,
      "outputs": []
    },
    {
      "cell_type": "code",
      "metadata": {
        "id": "Tm0V77pcvIJD",
        "colab_type": "code",
        "colab": {}
      },
      "source": [
        "LUGData.to_csv('LUG_data_1961-1990.csv', sep=',', encoding='utf-8', index=False)"
      ],
      "execution_count": 0,
      "outputs": []
    },
    {
      "cell_type": "code",
      "metadata": {
        "id": "3IJLUT8IvMFK",
        "colab_type": "code",
        "colab": {}
      },
      "source": [
        "LUGDataVorInd = LUGData[0:360]"
      ],
      "execution_count": 0,
      "outputs": []
    },
    {
      "cell_type": "code",
      "metadata": {
        "id": "qvPL52d2vdIe",
        "colab_type": "code",
        "colab": {}
      },
      "source": [
        "LUGnormVIndus = LUGDataVorInd.groupby(by=\"month\").transform(\"mean\")[\"temperature\"]"
      ],
      "execution_count": 0,
      "outputs": []
    },
    {
      "cell_type": "code",
      "metadata": {
        "id": "LswaEXMWvhIC",
        "colab_type": "code",
        "colab": {}
      },
      "source": [
        "LUGnotbalancedVIndus = LUGnormVIndus.append([LUGnormVIndus]*4, ignore_index=True)"
      ],
      "execution_count": 0,
      "outputs": []
    },
    {
      "cell_type": "code",
      "metadata": {
        "id": "COr164qcvks3",
        "colab_type": "code",
        "colab": {}
      },
      "source": [
        "LUGbalancedVIndus = LUGnotbalancedVIndus[0:1788]"
      ],
      "execution_count": 0,
      "outputs": []
    },
    {
      "cell_type": "code",
      "metadata": {
        "id": "YM6GysXOvn2g",
        "colab_type": "code",
        "colab": {}
      },
      "source": [
        "LUGData[\"value\"] = LUGData[\"temperature\"] - LUGbalancedVIndus"
      ],
      "execution_count": 0,
      "outputs": []
    },
    {
      "cell_type": "code",
      "metadata": {
        "id": "S8NgsOZcvrPa",
        "colab_type": "code",
        "colab": {}
      },
      "source": [
        "LUGData = LUGData.drop(['temperature'], axis=1)"
      ],
      "execution_count": 0,
      "outputs": []
    },
    {
      "cell_type": "code",
      "metadata": {
        "id": "_9lKdJThvsJe",
        "colab_type": "code",
        "colab": {}
      },
      "source": [
        "LUGData = LUGData.drop(['station'], axis=1)"
      ],
      "execution_count": 0,
      "outputs": []
    },
    {
      "cell_type": "code",
      "metadata": {
        "id": "5ejbW3RVvs95",
        "colab_type": "code",
        "colab": {}
      },
      "source": [
        "LUGData.to_csv('LUG_data_1871-1900.csv', sep=',', encoding='utf-8', index=False)"
      ],
      "execution_count": 0,
      "outputs": []
    },
    {
      "cell_type": "code",
      "metadata": {
        "id": "4q5iSj-YMjKl",
        "colab_type": "code",
        "colab": {}
      },
      "source": [
        "SIAData = df[17920:19708]\n",
        "SIAData = SIAData.reset_index(drop=True)"
      ],
      "execution_count": 0,
      "outputs": []
    },
    {
      "cell_type": "code",
      "metadata": {
        "id": "-WpZ2opYvyIO",
        "colab_type": "code",
        "colab": {}
      },
      "source": [
        "SIADataLatest = SIAData[1320:1680]"
      ],
      "execution_count": 0,
      "outputs": []
    },
    {
      "cell_type": "code",
      "metadata": {
        "id": "9ZIYxw2Lv181",
        "colab_type": "code",
        "colab": {}
      },
      "source": [
        "SIAnormVLatest = SIADataLatest.groupby(by=\"month\").transform(\"mean\")[\"temperature\"]"
      ],
      "execution_count": 0,
      "outputs": []
    },
    {
      "cell_type": "code",
      "metadata": {
        "id": "Vn61zxw4v46U",
        "colab_type": "code",
        "colab": {}
      },
      "source": [
        "SIAnotbalancedVLatest = SIAnormVLatest.append([SIAnormVLatest]*4, ignore_index=True)"
      ],
      "execution_count": 0,
      "outputs": []
    },
    {
      "cell_type": "code",
      "metadata": {
        "id": "Hjo51s0pv8VS",
        "colab_type": "code",
        "colab": {}
      },
      "source": [
        "SIAbalancedVLatest = SIAnotbalancedVLatest[0:1788]"
      ],
      "execution_count": 0,
      "outputs": []
    },
    {
      "cell_type": "code",
      "metadata": {
        "id": "Vz1omXg0wAWD",
        "colab_type": "code",
        "colab": {}
      },
      "source": [
        "SIAData[\"value\"] = SIAData[\"temperature\"] - SIAbalancedVLatest"
      ],
      "execution_count": 0,
      "outputs": []
    },
    {
      "cell_type": "code",
      "metadata": {
        "id": "yiQ4scGDwEaE",
        "colab_type": "code",
        "colab": {}
      },
      "source": [
        "SIAData = SIAData.drop(['temperature'], axis=1)"
      ],
      "execution_count": 0,
      "outputs": []
    },
    {
      "cell_type": "code",
      "metadata": {
        "id": "UYNuw7mfwNjE",
        "colab_type": "code",
        "colab": {}
      },
      "source": [
        "SIAData = SIAData.drop(['station'], axis=1)"
      ],
      "execution_count": 0,
      "outputs": []
    },
    {
      "cell_type": "code",
      "metadata": {
        "id": "ESbB0utkwPJS",
        "colab_type": "code",
        "colab": {}
      },
      "source": [
        "SIAData.to_csv('SIA_data_1981-2010.csv', sep=',', encoding='utf-8', index=False)"
      ],
      "execution_count": 0,
      "outputs": []
    },
    {
      "cell_type": "code",
      "metadata": {
        "id": "K3OBTMOPwTo-",
        "colab_type": "code",
        "colab": {}
      },
      "source": [
        "SIADataMiddle = SIAData[1080:1440]"
      ],
      "execution_count": 0,
      "outputs": []
    },
    {
      "cell_type": "code",
      "metadata": {
        "id": "LV-uiXLjwk6n",
        "colab_type": "code",
        "colab": {}
      },
      "source": [
        "SIAnormVMiddle = SIADataMiddle.groupby(by=\"month\").transform(\"mean\")[\"temperature\"]"
      ],
      "execution_count": 0,
      "outputs": []
    },
    {
      "cell_type": "code",
      "metadata": {
        "id": "oievlnepwoF9",
        "colab_type": "code",
        "colab": {}
      },
      "source": [
        "SIAnotbalancedVMiddle = SIAnormVMiddle.append([SIAnormVMiddle]*4, ignore_index=True)"
      ],
      "execution_count": 0,
      "outputs": []
    },
    {
      "cell_type": "code",
      "metadata": {
        "id": "g2ayzUJ5wrNc",
        "colab_type": "code",
        "colab": {}
      },
      "source": [
        "SIAbalancedVMiddle = SIAnotbalancedVMiddle[0:1788]"
      ],
      "execution_count": 0,
      "outputs": []
    },
    {
      "cell_type": "code",
      "metadata": {
        "id": "ipB1W8lxwuIi",
        "colab_type": "code",
        "colab": {}
      },
      "source": [
        "SIAData[\"value\"] = SIAData[\"temperature\"] - SIAbalancedVMiddle"
      ],
      "execution_count": 0,
      "outputs": []
    },
    {
      "cell_type": "code",
      "metadata": {
        "id": "HSrQZk0Pwxbz",
        "colab_type": "code",
        "colab": {}
      },
      "source": [
        "SIAData = SIAData.drop(['temperature'], axis=1)"
      ],
      "execution_count": 0,
      "outputs": []
    },
    {
      "cell_type": "code",
      "metadata": {
        "id": "CBx78qIuwy6K",
        "colab_type": "code",
        "colab": {}
      },
      "source": [
        "SIAData = SIAData.drop(['station'], axis=1)"
      ],
      "execution_count": 0,
      "outputs": []
    },
    {
      "cell_type": "code",
      "metadata": {
        "id": "SGLjV92Kwz2u",
        "colab_type": "code",
        "colab": {}
      },
      "source": [
        "SIAData.to_csv('SIA_data_1961-1990.csv', sep=',', encoding='utf-8', index=False)"
      ],
      "execution_count": 0,
      "outputs": []
    },
    {
      "cell_type": "code",
      "metadata": {
        "id": "z3VJ_NuPw228",
        "colab_type": "code",
        "colab": {}
      },
      "source": [
        "SIADataVorInd = SIAData[0:360]"
      ],
      "execution_count": 0,
      "outputs": []
    },
    {
      "cell_type": "code",
      "metadata": {
        "id": "YKDJR24cxHVN",
        "colab_type": "code",
        "colab": {}
      },
      "source": [
        "SIAnormVIndus = SIADataVorInd.groupby(by=\"month\").transform(\"mean\")[\"temperature\"]"
      ],
      "execution_count": 0,
      "outputs": []
    },
    {
      "cell_type": "code",
      "metadata": {
        "id": "cr4vhXcuxKVU",
        "colab_type": "code",
        "colab": {}
      },
      "source": [
        "SIAnotbalancedVIndus = SIAnormVIndus.append([SIAnormVIndus]*4, ignore_index=True)"
      ],
      "execution_count": 0,
      "outputs": []
    },
    {
      "cell_type": "code",
      "metadata": {
        "id": "3yLmAvrHxNsZ",
        "colab_type": "code",
        "colab": {}
      },
      "source": [
        "SIAbalancedVIndus = SIAnotbalancedVIndus[0:1788]"
      ],
      "execution_count": 0,
      "outputs": []
    },
    {
      "cell_type": "code",
      "metadata": {
        "id": "pXgH6WZ-xQMC",
        "colab_type": "code",
        "colab": {}
      },
      "source": [
        "SIAData[\"value\"] = SIAData[\"temperature\"] - SIAbalancedVIndus"
      ],
      "execution_count": 0,
      "outputs": []
    },
    {
      "cell_type": "code",
      "metadata": {
        "id": "8EMmUHJAxUSX",
        "colab_type": "code",
        "colab": {}
      },
      "source": [
        "SIAData = SIAData.drop(['temperature'], axis=1)"
      ],
      "execution_count": 0,
      "outputs": []
    },
    {
      "cell_type": "code",
      "metadata": {
        "id": "9rKI_0PzxXEd",
        "colab_type": "code",
        "colab": {}
      },
      "source": [
        "SIAData = SIAData.drop(['station'], axis=1)"
      ],
      "execution_count": 0,
      "outputs": []
    },
    {
      "cell_type": "code",
      "metadata": {
        "id": "4QvcLmO1xYA-",
        "colab_type": "code",
        "colab": {}
      },
      "source": [
        "SIAData.to_csv('SIA_data_1871-1900.csv', sep=',', encoding='utf-8', index=False)"
      ],
      "execution_count": 0,
      "outputs": []
    },
    {
      "cell_type": "code",
      "metadata": {
        "id": "-pjyNzHJM9vA",
        "colab_type": "code",
        "colab": {}
      },
      "source": [
        "SIOData = df[19712:21500]\n",
        "SIOData = SIOData.reset_index(drop=True)"
      ],
      "execution_count": 0,
      "outputs": []
    },
    {
      "cell_type": "code",
      "metadata": {
        "id": "BUh6u8qMx4cU",
        "colab_type": "code",
        "colab": {}
      },
      "source": [
        "SIODataLatest = SIOData[1320:1680]"
      ],
      "execution_count": 0,
      "outputs": []
    },
    {
      "cell_type": "code",
      "metadata": {
        "id": "tsgd2AHIx8Y7",
        "colab_type": "code",
        "colab": {}
      },
      "source": [
        "SIOnormVLatest = SIODataLatest.groupby(by=\"month\").transform(\"mean\")[\"temperature\"]"
      ],
      "execution_count": 0,
      "outputs": []
    },
    {
      "cell_type": "code",
      "metadata": {
        "id": "LwUSk2HZyAtK",
        "colab_type": "code",
        "colab": {}
      },
      "source": [
        "SIOnotbalancedVLatest = SIOnormVLatest.append([SIOnormVLatest]*4, ignore_index=True)"
      ],
      "execution_count": 0,
      "outputs": []
    },
    {
      "cell_type": "code",
      "metadata": {
        "id": "9o97Ly9EyEHo",
        "colab_type": "code",
        "colab": {}
      },
      "source": [
        "SIObalancedVLatest = SIOnotbalancedVLatest[0:1788]"
      ],
      "execution_count": 0,
      "outputs": []
    },
    {
      "cell_type": "code",
      "metadata": {
        "id": "SBc8z-t3yJEu",
        "colab_type": "code",
        "colab": {}
      },
      "source": [
        "SIOData[\"value\"] = SIOData[\"temperature\"] - SIObalancedVLatest"
      ],
      "execution_count": 0,
      "outputs": []
    },
    {
      "cell_type": "code",
      "metadata": {
        "id": "T-v3wt2pyNAF",
        "colab_type": "code",
        "colab": {}
      },
      "source": [
        "SIOData = SIOData.drop(['temperature'], axis=1)"
      ],
      "execution_count": 0,
      "outputs": []
    },
    {
      "cell_type": "code",
      "metadata": {
        "id": "LnUE9Bs4yPqq",
        "colab_type": "code",
        "colab": {}
      },
      "source": [
        "SIOData = SIOData.drop(['station'], axis=1)"
      ],
      "execution_count": 0,
      "outputs": []
    },
    {
      "cell_type": "code",
      "metadata": {
        "id": "kFOGAcS3yRmV",
        "colab_type": "code",
        "colab": {}
      },
      "source": [
        "SIOData.to_csv('SIO_data_1981-2010.csv', sep=',', encoding='utf-8', index=False)"
      ],
      "execution_count": 0,
      "outputs": []
    },
    {
      "cell_type": "code",
      "metadata": {
        "id": "XspYWOe0yUhP",
        "colab_type": "code",
        "colab": {}
      },
      "source": [
        "SIODataMiddle = SIOData[1080:1440]"
      ],
      "execution_count": 0,
      "outputs": []
    },
    {
      "cell_type": "code",
      "metadata": {
        "id": "jW1tMywAymcw",
        "colab_type": "code",
        "colab": {}
      },
      "source": [
        "SIOnormVMiddle = SIODataMiddle.groupby(by=\"month\").transform(\"mean\")[\"temperature\"]"
      ],
      "execution_count": 0,
      "outputs": []
    },
    {
      "cell_type": "code",
      "metadata": {
        "id": "bAp2Ud-Uyp5x",
        "colab_type": "code",
        "colab": {}
      },
      "source": [
        "SIOnotbalancedVMiddle = SIOnormVMiddle.append([SIOnormVMiddle]*4, ignore_index=True)"
      ],
      "execution_count": 0,
      "outputs": []
    },
    {
      "cell_type": "code",
      "metadata": {
        "id": "Ef1Y8K4eytif",
        "colab_type": "code",
        "colab": {}
      },
      "source": [
        "SIObalancedVMiddle = SIOnotbalancedVMiddle[0:1788]"
      ],
      "execution_count": 0,
      "outputs": []
    },
    {
      "cell_type": "code",
      "metadata": {
        "id": "yFT7aQNqyw8Q",
        "colab_type": "code",
        "colab": {}
      },
      "source": [
        "SIOData[\"value\"] = SIOData[\"temperature\"] - SIObalancedVMiddle"
      ],
      "execution_count": 0,
      "outputs": []
    },
    {
      "cell_type": "code",
      "metadata": {
        "id": "Ii0EnDBsy0JJ",
        "colab_type": "code",
        "colab": {}
      },
      "source": [
        "SIOData = SIOData.drop(['temperature'], axis=1)"
      ],
      "execution_count": 0,
      "outputs": []
    },
    {
      "cell_type": "code",
      "metadata": {
        "id": "FXyMu3aQy1VT",
        "colab_type": "code",
        "colab": {}
      },
      "source": [
        "SIOData = SIOData.drop(['station'], axis=1)"
      ],
      "execution_count": 0,
      "outputs": []
    },
    {
      "cell_type": "code",
      "metadata": {
        "id": "SIKVAy-Oy2aj",
        "colab_type": "code",
        "colab": {}
      },
      "source": [
        "SIOData.to_csv('SIO_data_1961-1990.csv', sep=',', encoding='utf-8', index=False)"
      ],
      "execution_count": 0,
      "outputs": []
    },
    {
      "cell_type": "code",
      "metadata": {
        "id": "VqjX8Fu4y6Ng",
        "colab_type": "code",
        "colab": {}
      },
      "source": [
        "SIODataVorInd = SIOData[0:360]"
      ],
      "execution_count": 0,
      "outputs": []
    },
    {
      "cell_type": "code",
      "metadata": {
        "id": "18RrlAotzMxb",
        "colab_type": "code",
        "colab": {}
      },
      "source": [
        "SIOnormVIndus = SIODataVorInd.groupby(by=\"month\").transform(\"mean\")[\"temperature\"]"
      ],
      "execution_count": 0,
      "outputs": []
    },
    {
      "cell_type": "code",
      "metadata": {
        "id": "VPukVujYzP0S",
        "colab_type": "code",
        "colab": {}
      },
      "source": [
        "SIOnotbalancedVIndus = SIOnormVIndus.append([SIOnormVIndus]*4, ignore_index=True)"
      ],
      "execution_count": 0,
      "outputs": []
    },
    {
      "cell_type": "code",
      "metadata": {
        "id": "WvL_v88nzVUr",
        "colab_type": "code",
        "colab": {}
      },
      "source": [
        "SIObalancedVIndus = SIOnotbalancedVIndus[0:1788]"
      ],
      "execution_count": 0,
      "outputs": []
    },
    {
      "cell_type": "code",
      "metadata": {
        "id": "9rJHrTvezYXe",
        "colab_type": "code",
        "colab": {}
      },
      "source": [
        "SIOData[\"value\"] = SIOData[\"temperature\"] - SIObalancedVIndus"
      ],
      "execution_count": 0,
      "outputs": []
    },
    {
      "cell_type": "code",
      "metadata": {
        "id": "26pZuinBzf5L",
        "colab_type": "code",
        "colab": {}
      },
      "source": [
        "SIOData = SIOData.drop(['temperature'], axis=1)"
      ],
      "execution_count": 0,
      "outputs": []
    },
    {
      "cell_type": "code",
      "metadata": {
        "id": "QenRMYYxzhHv",
        "colab_type": "code",
        "colab": {}
      },
      "source": [
        "SIOData = SIOData.drop(['station'], axis=1)"
      ],
      "execution_count": 0,
      "outputs": []
    },
    {
      "cell_type": "code",
      "metadata": {
        "id": "om6_K74iziEv",
        "colab_type": "code",
        "colab": {}
      },
      "source": [
        "SIOData.to_csv('SIO_data_1871-1900.csv', sep=',', encoding='utf-8', index=False)"
      ],
      "execution_count": 0,
      "outputs": []
    },
    {
      "cell_type": "code",
      "metadata": {
        "id": "jgqLZDi7NTQD",
        "colab_type": "code",
        "colab": {}
      },
      "source": [
        "SAEData = df[21504:23292]\n",
        "SAEData = SAEData.reset_index(drop=True)"
      ],
      "execution_count": 0,
      "outputs": []
    },
    {
      "cell_type": "code",
      "metadata": {
        "id": "ri0Qsw4zzoZc",
        "colab_type": "code",
        "colab": {}
      },
      "source": [
        "SAEDataLatest = SAEData[1320:1680]"
      ],
      "execution_count": 0,
      "outputs": []
    },
    {
      "cell_type": "code",
      "metadata": {
        "id": "Au9sKWnHzsSc",
        "colab_type": "code",
        "colab": {}
      },
      "source": [
        "SAEnormVLatest = SAEDataLatest.groupby(by=\"month\").transform(\"mean\")[\"temperature\"]"
      ],
      "execution_count": 0,
      "outputs": []
    },
    {
      "cell_type": "code",
      "metadata": {
        "id": "U75JMQx3zvO7",
        "colab_type": "code",
        "colab": {}
      },
      "source": [
        "SAEnotbalancedVLatest = SAEnormVLatest.append([SAEnormVLatest]*4, ignore_index=True)"
      ],
      "execution_count": 0,
      "outputs": []
    },
    {
      "cell_type": "code",
      "metadata": {
        "id": "9m8gkeST0Bv6",
        "colab_type": "code",
        "colab": {}
      },
      "source": [
        "SAEbalancedVLatest = SAEnotbalancedVLatest[0:1788]"
      ],
      "execution_count": 0,
      "outputs": []
    },
    {
      "cell_type": "code",
      "metadata": {
        "id": "NKBJNQiO0F2Z",
        "colab_type": "code",
        "colab": {}
      },
      "source": [
        "SAEData[\"value\"] = SAEData[\"temperature\"] - SAEbalancedVLatest"
      ],
      "execution_count": 0,
      "outputs": []
    },
    {
      "cell_type": "code",
      "metadata": {
        "id": "K2NsxjsW0K4k",
        "colab_type": "code",
        "colab": {}
      },
      "source": [
        "SAEData = SAEData.drop(['temperature'], axis=1)"
      ],
      "execution_count": 0,
      "outputs": []
    },
    {
      "cell_type": "code",
      "metadata": {
        "id": "NAGxTmLY0N4v",
        "colab_type": "code",
        "colab": {}
      },
      "source": [
        "SAEData = SAEData.drop(['station'], axis=1)"
      ],
      "execution_count": 0,
      "outputs": []
    },
    {
      "cell_type": "code",
      "metadata": {
        "id": "95X-OYDU0P3H",
        "colab_type": "code",
        "colab": {}
      },
      "source": [
        "SAEData.to_csv('SAE_data_1981-2010.csv', sep=',', encoding='utf-8', index=False)"
      ],
      "execution_count": 0,
      "outputs": []
    },
    {
      "cell_type": "code",
      "metadata": {
        "id": "3pXlCLmm0UYS",
        "colab_type": "code",
        "colab": {}
      },
      "source": [
        "SAEDataMiddle = SAEData[1080:1440]"
      ],
      "execution_count": 0,
      "outputs": []
    },
    {
      "cell_type": "code",
      "metadata": {
        "id": "SaTELLvp0pAX",
        "colab_type": "code",
        "colab": {}
      },
      "source": [
        "SAEnormVMiddle = SAEDataMiddle.groupby(by=\"month\").transform(\"mean\")[\"temperature\"]"
      ],
      "execution_count": 0,
      "outputs": []
    },
    {
      "cell_type": "code",
      "metadata": {
        "id": "sePATCFb0sBI",
        "colab_type": "code",
        "colab": {}
      },
      "source": [
        "SAEnotbalancedVMiddle = SAEnormVMiddle.append([SAEnormVMiddle]*4, ignore_index=True)"
      ],
      "execution_count": 0,
      "outputs": []
    },
    {
      "cell_type": "code",
      "metadata": {
        "id": "B3EBP9SL0v1H",
        "colab_type": "code",
        "colab": {}
      },
      "source": [
        "SAEbalancedVMiddle = SAEnotbalancedVMiddle[0:1788]"
      ],
      "execution_count": 0,
      "outputs": []
    },
    {
      "cell_type": "code",
      "metadata": {
        "id": "fDf-Fj3i0y_W",
        "colab_type": "code",
        "colab": {}
      },
      "source": [
        "SAEData[\"value\"] = SAEData[\"temperature\"] - SAEbalancedVMiddle"
      ],
      "execution_count": 0,
      "outputs": []
    },
    {
      "cell_type": "code",
      "metadata": {
        "id": "aFEqaI-c03kq",
        "colab_type": "code",
        "colab": {}
      },
      "source": [
        "SAEData = SAEData.drop(['temperature'], axis=1)"
      ],
      "execution_count": 0,
      "outputs": []
    },
    {
      "cell_type": "code",
      "metadata": {
        "id": "THzDWZmu05Rh",
        "colab_type": "code",
        "colab": {}
      },
      "source": [
        "SAEData = SAEData.drop(['station'], axis=1)"
      ],
      "execution_count": 0,
      "outputs": []
    },
    {
      "cell_type": "code",
      "metadata": {
        "id": "p36YwqK_06YR",
        "colab_type": "code",
        "colab": {}
      },
      "source": [
        "SAEData.to_csv('SAE_data_1961-1990.csv', sep=',', encoding='utf-8', index=False)"
      ],
      "execution_count": 0,
      "outputs": []
    },
    {
      "cell_type": "code",
      "metadata": {
        "id": "4Q8IAZUC0_DC",
        "colab_type": "code",
        "colab": {}
      },
      "source": [
        "SAEDataVorInd = SAEData[0:360]"
      ],
      "execution_count": 0,
      "outputs": []
    },
    {
      "cell_type": "code",
      "metadata": {
        "id": "pYXb2BIq1e3u",
        "colab_type": "code",
        "colab": {}
      },
      "source": [
        "SAEnormVIndus = SAEDataVorInd.groupby(by=\"month\").transform(\"mean\")[\"temperature\"]"
      ],
      "execution_count": 0,
      "outputs": []
    },
    {
      "cell_type": "code",
      "metadata": {
        "id": "p2Ge7K4T1l-z",
        "colab_type": "code",
        "colab": {}
      },
      "source": [
        "SAEnotbalancedVIndus = SAEnormVIndus.append([SAEnormVIndus]*4, ignore_index=True)"
      ],
      "execution_count": 0,
      "outputs": []
    },
    {
      "cell_type": "code",
      "metadata": {
        "id": "oyOs9unF1x17",
        "colab_type": "code",
        "colab": {}
      },
      "source": [
        "SAEbalancedVIndus = SAEnotbalancedVIndus[0:1788]"
      ],
      "execution_count": 0,
      "outputs": []
    },
    {
      "cell_type": "code",
      "metadata": {
        "id": "yVQlsaqW11TG",
        "colab_type": "code",
        "colab": {}
      },
      "source": [
        "SAEData[\"value\"] = SAEData[\"temperature\"] - SAEbalancedVIndus"
      ],
      "execution_count": 0,
      "outputs": []
    },
    {
      "cell_type": "code",
      "metadata": {
        "id": "KDsq0-4u14y9",
        "colab_type": "code",
        "colab": {}
      },
      "source": [
        "SAEData = SAEData.drop(['temperature'], axis=1)"
      ],
      "execution_count": 0,
      "outputs": []
    },
    {
      "cell_type": "code",
      "metadata": {
        "id": "NGXIsYkW16G8",
        "colab_type": "code",
        "colab": {}
      },
      "source": [
        "SAEData = SAEData.drop(['station'], axis=1)"
      ],
      "execution_count": 0,
      "outputs": []
    },
    {
      "cell_type": "code",
      "metadata": {
        "id": "rRZ23hOj17Sw",
        "colab_type": "code",
        "colab": {}
      },
      "source": [
        "SAEData.to_csv('SAE_data_1871-1900.csv', sep=',', encoding='utf-8', index=False)"
      ],
      "execution_count": 0,
      "outputs": []
    },
    {
      "cell_type": "code",
      "metadata": {
        "id": "WgLarjkfNjTb",
        "colab_type": "code",
        "colab": {}
      },
      "source": [
        "SMAData = df[23296:25083]\n",
        "SMAData = SMAData.reset_index(drop=True)"
      ],
      "execution_count": 0,
      "outputs": []
    },
    {
      "cell_type": "code",
      "metadata": {
        "id": "u8uEWpof2CmR",
        "colab_type": "code",
        "colab": {}
      },
      "source": [
        "SMADataLatest = SMAData[1320:1680]"
      ],
      "execution_count": 0,
      "outputs": []
    },
    {
      "cell_type": "code",
      "metadata": {
        "id": "-aeT7mBC2GgB",
        "colab_type": "code",
        "colab": {}
      },
      "source": [
        "SMAnormVLatest = SMADataLatest.groupby(by=\"month\").transform(\"mean\")[\"temperature\"]"
      ],
      "execution_count": 0,
      "outputs": []
    },
    {
      "cell_type": "code",
      "metadata": {
        "id": "TzYgpte72JSa",
        "colab_type": "code",
        "colab": {}
      },
      "source": [
        "SMAnotbalancedVLatest = SMAnormVLatest.append([SMAnormVLatest]*4, ignore_index=True)"
      ],
      "execution_count": 0,
      "outputs": []
    },
    {
      "cell_type": "code",
      "metadata": {
        "id": "g2Dy9m182NgJ",
        "colab_type": "code",
        "colab": {}
      },
      "source": [
        "SMAbalancedVLatest = SMAnotbalancedVLatest[0:1788]"
      ],
      "execution_count": 0,
      "outputs": []
    },
    {
      "cell_type": "code",
      "metadata": {
        "id": "2MsRGuqB2Qey",
        "colab_type": "code",
        "colab": {}
      },
      "source": [
        "SMAData[\"value\"] = SMAData[\"temperature\"] - SMAbalancedVLatest"
      ],
      "execution_count": 0,
      "outputs": []
    },
    {
      "cell_type": "code",
      "metadata": {
        "id": "hnpRqcOx2Up0",
        "colab_type": "code",
        "colab": {}
      },
      "source": [
        "SMAData = SMAData.drop(['temperature'], axis=1)"
      ],
      "execution_count": 0,
      "outputs": []
    },
    {
      "cell_type": "code",
      "metadata": {
        "id": "cHOcasQn2XZc",
        "colab_type": "code",
        "colab": {}
      },
      "source": [
        "SMAData = SMAData.drop(['station'], axis=1)"
      ],
      "execution_count": 0,
      "outputs": []
    },
    {
      "cell_type": "code",
      "metadata": {
        "id": "U-D4FvlS2Ym7",
        "colab_type": "code",
        "colab": {}
      },
      "source": [
        "SMAData.to_csv('SMA_data_1981-2010.csv', sep=',', encoding='utf-8', index=False)"
      ],
      "execution_count": 0,
      "outputs": []
    },
    {
      "cell_type": "code",
      "metadata": {
        "id": "-w-l6ChX2b-5",
        "colab_type": "code",
        "colab": {}
      },
      "source": [
        "SMADataMiddle = SMAData[1080:1440]"
      ],
      "execution_count": 0,
      "outputs": []
    },
    {
      "cell_type": "code",
      "metadata": {
        "id": "f5c6He2D21N9",
        "colab_type": "code",
        "colab": {}
      },
      "source": [
        "SMAnormVMiddle = SMADataMiddle.groupby(by=\"month\").transform(\"mean\")[\"temperature\"]"
      ],
      "execution_count": 0,
      "outputs": []
    },
    {
      "cell_type": "code",
      "metadata": {
        "id": "Bf9kFWEN29U8",
        "colab_type": "code",
        "colab": {}
      },
      "source": [
        "SMAnotbalancedVMiddle = SMAnormVMiddle.append([SMAnormVMiddle]*4, ignore_index=True)"
      ],
      "execution_count": 0,
      "outputs": []
    },
    {
      "cell_type": "code",
      "metadata": {
        "id": "9u5H0UuL3BeD",
        "colab_type": "code",
        "colab": {}
      },
      "source": [
        "SMAbalancedVMiddle = SMAnotbalancedVMiddle[0:1788]"
      ],
      "execution_count": 0,
      "outputs": []
    },
    {
      "cell_type": "code",
      "metadata": {
        "id": "H_g2RZcY3EHz",
        "colab_type": "code",
        "colab": {}
      },
      "source": [
        "SMAData[\"value\"] = SMAData[\"temperature\"] - SMAbalancedVMiddle"
      ],
      "execution_count": 0,
      "outputs": []
    },
    {
      "cell_type": "code",
      "metadata": {
        "id": "r_wl09NQ3M1k",
        "colab_type": "code",
        "colab": {}
      },
      "source": [
        "SMAData = SMAData.drop(['temperature'], axis=1)"
      ],
      "execution_count": 0,
      "outputs": []
    },
    {
      "cell_type": "code",
      "metadata": {
        "id": "x8qwpFTz3OST",
        "colab_type": "code",
        "colab": {}
      },
      "source": [
        "SMAData = SMAData.drop(['station'], axis=1)"
      ],
      "execution_count": 0,
      "outputs": []
    },
    {
      "cell_type": "code",
      "metadata": {
        "id": "dIJLYovb3PFW",
        "colab_type": "code",
        "colab": {}
      },
      "source": [
        "SMAData.to_csv('SMA_data_1961-1990.csv', sep=',', encoding='utf-8', index=False)"
      ],
      "execution_count": 0,
      "outputs": []
    },
    {
      "cell_type": "code",
      "metadata": {
        "id": "C-cLU_lE3TGP",
        "colab_type": "code",
        "colab": {}
      },
      "source": [
        "SMADataVorInd = SMAData[0:360]"
      ],
      "execution_count": 0,
      "outputs": []
    },
    {
      "cell_type": "code",
      "metadata": {
        "id": "NdjwznPw4TrX",
        "colab_type": "code",
        "colab": {}
      },
      "source": [
        "SMAnormVIndus = SMADataVorInd.groupby(by=\"month\").transform(\"mean\")[\"temperature\"]"
      ],
      "execution_count": 0,
      "outputs": []
    },
    {
      "cell_type": "code",
      "metadata": {
        "id": "8U4t1r3j4WXo",
        "colab_type": "code",
        "colab": {}
      },
      "source": [
        "SMAnotbalancedVIndus = SMAnormVIndus.append([SMAnormVIndus]*4, ignore_index=True)"
      ],
      "execution_count": 0,
      "outputs": []
    },
    {
      "cell_type": "code",
      "metadata": {
        "id": "C2P8h3Ws4dpg",
        "colab_type": "code",
        "colab": {}
      },
      "source": [
        "SMAbalancedVIndus = SMAnotbalancedVIndus[0:1788]"
      ],
      "execution_count": 0,
      "outputs": []
    },
    {
      "cell_type": "code",
      "metadata": {
        "id": "8dPFYSFP4fvI",
        "colab_type": "code",
        "colab": {}
      },
      "source": [
        "SMAData[\"value\"] = SMAData[\"temperature\"] - SMAbalancedVIndus"
      ],
      "execution_count": 0,
      "outputs": []
    },
    {
      "cell_type": "code",
      "metadata": {
        "id": "zuY85Vdb4ilL",
        "colab_type": "code",
        "colab": {}
      },
      "source": [
        "SMAData = SMAData.drop(['temperature'], axis=1)"
      ],
      "execution_count": 0,
      "outputs": []
    },
    {
      "cell_type": "code",
      "metadata": {
        "id": "TDvm9wl14jnT",
        "colab_type": "code",
        "colab": {}
      },
      "source": [
        "SMAData = SMAData.drop(['station'], axis=1)"
      ],
      "execution_count": 0,
      "outputs": []
    },
    {
      "cell_type": "code",
      "metadata": {
        "id": "T8XlHzAK4ksd",
        "colab_type": "code",
        "colab": {}
      },
      "source": [
        "SMAData.to_csv('SMA_data_1871-1900.csv', sep=',', encoding='utf-8', index=False)"
      ],
      "execution_count": 0,
      "outputs": []
    }
  ]
}